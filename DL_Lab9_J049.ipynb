{
  "nbformat": 4,
  "nbformat_minor": 0,
  "metadata": {
    "colab": {
      "name": "Lab-9-J045.ipynb",
      "provenance": [],
      "collapsed_sections": []
    },
    "kernelspec": {
      "name": "python3",
      "display_name": "Python 3"
    },
    "accelerator": "GPU"
  },
  "cells": [
    {
      "cell_type": "code",
      "metadata": {
        "id": "r1AES3qNhU17",
        "colab_type": "code",
        "colab": {}
      },
      "source": [
        "from bs4 import BeautifulSoup\n",
        "import numpy as np\n",
        "import requests\n",
        "import cv2\n",
        "import PIL.Image\n",
        "import urllib\n",
        "import os\n",
        "import pandas as pd"
      ],
      "execution_count": 0,
      "outputs": []
    },
    {
      "cell_type": "markdown",
      "metadata": {
        "id": "7doAVsy0bsXh",
        "colab_type": "text"
      },
      "source": [
        "# **Loading the data images**"
      ]
    },
    {
      "cell_type": "code",
      "metadata": {
        "id": "0A9TqHwFlMtm",
        "colab_type": "code",
        "colab": {}
      },
      "source": [
        "stringed = requests.get(\"http://www.image-net.org/api/text/imagenet.synset.geturls?wnid=n04338517\") \n",
        "print(stringed.content)\n",
        "stringed_soup = BeautifulSoup(stringed.content, 'html.parser')"
      ],
      "execution_count": 0,
      "outputs": []
    },
    {
      "cell_type": "code",
      "metadata": {
        "id": "kCCjhyc-oM3U",
        "colab_type": "code",
        "colab": {}
      },
      "source": [
        "percussion = requests.get(\"http://www.image-net.org/api/text/imagenet.synset.geturls?wnid=n03915437\") \n",
        "print(percussion.content)\n",
        "percussion_soup = BeautifulSoup(percussion.content, 'html.parser')"
      ],
      "execution_count": 0,
      "outputs": []
    },
    {
      "cell_type": "code",
      "metadata": {
        "id": "uIM1b0DioaNz",
        "colab_type": "code",
        "colab": {}
      },
      "source": [
        "wind = requests.get(\"http://www.image-net.org/api/text/imagenet.synset.geturls?wnid=n04586932\") \n",
        "print(wind.content)\n",
        "wind_soup = BeautifulSoup(wind.content, 'html.parser') "
      ],
      "execution_count": 0,
      "outputs": []
    },
    {
      "cell_type": "code",
      "metadata": {
        "id": "y8rhTQcuobRV",
        "colab_type": "code",
        "colab": {}
      },
      "source": [
        "keyboard = requests.get(\"http://www.image-net.org/api/text/imagenet.synset.geturls?wnid=n03614532\") \n",
        "print(keyboard.content)\n",
        "keyboard_soup = BeautifulSoup(keyboard.content, 'html.parser') "
      ],
      "execution_count": 0,
      "outputs": []
    },
    {
      "cell_type": "code",
      "metadata": {
        "id": "bve-wQdgobsD",
        "colab_type": "code",
        "colab": {}
      },
      "source": [
        "bass = requests.get(\"http://www.image-net.org/api/text/imagenet.synset.geturls?wnid=n02803349\")  \n",
        "print(bass.content)\n",
        "bass_soup = BeautifulSoup(bass.content, 'html.parser')"
      ],
      "execution_count": 0,
      "outputs": []
    },
    {
      "cell_type": "code",
      "metadata": {
        "id": "lPBsAepWocNJ",
        "colab_type": "code",
        "colab": {}
      },
      "source": [
        "barrel = requests.get(\"http://www.image-net.org/api/text/imagenet.synset.geturls?wnid=n02795978\") \n",
        "print(barrel.content)\n",
        "barrel_soup = BeautifulSoup(barrel.content, 'html.parser')"
      ],
      "execution_count": 0,
      "outputs": []
    },
    {
      "cell_type": "code",
      "metadata": {
        "id": "m6t3Djvbocdl",
        "colab_type": "code",
        "colab": {}
      },
      "source": [
        "jews = requests.get(\"http://www.image-net.org/api/text/imagenet.synset.geturls?wnid=n03597916\")  \n",
        "print(jews.content)\n",
        "jews_soup = BeautifulSoup(jews.content, 'html.parser')"
      ],
      "execution_count": 0,
      "outputs": []
    },
    {
      "cell_type": "code",
      "metadata": {
        "id": "nhEkxRt6octN",
        "colab_type": "code",
        "colab": {}
      },
      "source": [
        "music = requests.get(\"http://www.image-net.org/api/text/imagenet.synset.geturls?wnid=n03801353\")  \n",
        "print(music.content)\n",
        "music_soup = BeautifulSoup(music.content, 'html.parser')"
      ],
      "execution_count": 0,
      "outputs": []
    },
    {
      "cell_type": "code",
      "metadata": {
        "id": "CrntXvHAqkh3",
        "colab_type": "code",
        "colab": {}
      },
      "source": [
        "electric = requests.get(\"http://www.image-net.org/api/text/imagenet.synset.geturls?wnid=n03279153\")   \n",
        "print(electric.content)\n",
        "electric_soup = BeautifulSoup(electric.content, 'html.parser')"
      ],
      "execution_count": 0,
      "outputs": []
    },
    {
      "cell_type": "code",
      "metadata": {
        "id": "tJHtonULq2vp",
        "colab_type": "code",
        "outputId": "9c2d36d9-3522-4f1b-e1e9-6f30907d9c58",
        "colab": {
          "base_uri": "https://localhost:8080/",
          "height": 34
        }
      },
      "source": [
        "stringed_str_soup=str(stringed_soup)\n",
        "type(stringed_str_soup)\n",
        "stringed_split_urls=stringed_str_soup.split('\\r\\n')\n",
        "print(len(stringed_split_urls))"
      ],
      "execution_count": 0,
      "outputs": [
        {
          "output_type": "stream",
          "text": [
            "2029\n"
          ],
          "name": "stdout"
        }
      ]
    },
    {
      "cell_type": "code",
      "metadata": {
        "id": "BQn67zRtruR8",
        "colab_type": "code",
        "outputId": "89fef8c4-775a-4ee0-b06f-6184ce8468b9",
        "colab": {
          "base_uri": "https://localhost:8080/",
          "height": 34
        }
      },
      "source": [
        "percussion_str_soup=str(percussion_soup)\n",
        "type(percussion_str_soup)\n",
        "percussion_split_urls=percussion_str_soup.split('\\r\\n')\n",
        "print(len(percussion_split_urls))"
      ],
      "execution_count": 0,
      "outputs": [
        {
          "output_type": "stream",
          "text": [
            "1274\n"
          ],
          "name": "stdout"
        }
      ]
    },
    {
      "cell_type": "code",
      "metadata": {
        "id": "GlwDp49etNE2",
        "colab_type": "code",
        "outputId": "42dd1726-c667-4df9-abe8-34bf3b937c03",
        "colab": {
          "base_uri": "https://localhost:8080/",
          "height": 34
        }
      },
      "source": [
        "wind_str_soup=str(wind_soup)\n",
        "type(wind_str_soup)\n",
        "wind_split_urls=wind_str_soup.split('\\r\\n')\n",
        "print(len(wind_split_urls))"
      ],
      "execution_count": 0,
      "outputs": [
        {
          "output_type": "stream",
          "text": [
            "1434\n"
          ],
          "name": "stdout"
        }
      ]
    },
    {
      "cell_type": "code",
      "metadata": {
        "id": "PBdPAAG5tUBe",
        "colab_type": "code",
        "outputId": "c742f719-6b7b-472f-cd7e-2ff85548ae34",
        "colab": {
          "base_uri": "https://localhost:8080/",
          "height": 34
        }
      },
      "source": [
        "keyboard_str_soup=str(keyboard_soup)\n",
        "type(keyboard_str_soup)\n",
        "keyboard_split_urls=keyboard_str_soup.split('\\r\\n')\n",
        "print(len(keyboard_split_urls))"
      ],
      "execution_count": 0,
      "outputs": [
        {
          "output_type": "stream",
          "text": [
            "1214\n"
          ],
          "name": "stdout"
        }
      ]
    },
    {
      "cell_type": "code",
      "metadata": {
        "id": "84DpjviDtUfH",
        "colab_type": "code",
        "outputId": "b59e21fc-0ad2-4e06-a992-ba4f3e57c7ae",
        "colab": {
          "base_uri": "https://localhost:8080/",
          "height": 34
        }
      },
      "source": [
        "bass_str_soup=str(bass_soup)\n",
        "type(bass_str_soup)\n",
        "bass_split_urls=bass_str_soup.split('\\r\\n')\n",
        "print(len(bass_split_urls))"
      ],
      "execution_count": 0,
      "outputs": [
        {
          "output_type": "stream",
          "text": [
            "1172\n"
          ],
          "name": "stdout"
        }
      ]
    },
    {
      "cell_type": "code",
      "metadata": {
        "id": "SapsbgiutVJE",
        "colab_type": "code",
        "outputId": "d594a6f1-9882-4a95-f9ba-8b25b1b9709d",
        "colab": {
          "base_uri": "https://localhost:8080/",
          "height": 34
        }
      },
      "source": [
        "barrel_str_soup=str(barrel_soup)\n",
        "type(barrel_str_soup)\n",
        "barrel_split_urls=barrel_str_soup.split('\\r\\n')\n",
        "print(len(barrel_split_urls))"
      ],
      "execution_count": 0,
      "outputs": [
        {
          "output_type": "stream",
          "text": [
            "292\n"
          ],
          "name": "stdout"
        }
      ]
    },
    {
      "cell_type": "code",
      "metadata": {
        "id": "hodki2FitVbD",
        "colab_type": "code",
        "outputId": "b71663f4-c84c-43fc-834a-e76603f0c06a",
        "colab": {
          "base_uri": "https://localhost:8080/",
          "height": 34
        }
      },
      "source": [
        "jews_str_soup=str(jews_soup)\n",
        "type(jews_str_soup)\n",
        "jews_split_urls=jews_str_soup.split('\\r\\n')\n",
        "print(len(jews_split_urls))"
      ],
      "execution_count": 0,
      "outputs": [
        {
          "output_type": "stream",
          "text": [
            "554\n"
          ],
          "name": "stdout"
        }
      ]
    },
    {
      "cell_type": "code",
      "metadata": {
        "id": "bLeQXqDwtVrc",
        "colab_type": "code",
        "outputId": "9e8525da-ef3e-49ee-81f1-f34ed24442f6",
        "colab": {
          "base_uri": "https://localhost:8080/",
          "height": 34
        }
      },
      "source": [
        "music_str_soup=str(music_soup)\n",
        "type(music_str_soup)\n",
        "music_split_urls=music_str_soup.split('\\r\\n')\n",
        "print(len(music_split_urls))"
      ],
      "execution_count": 0,
      "outputs": [
        {
          "output_type": "stream",
          "text": [
            "652\n"
          ],
          "name": "stdout"
        }
      ]
    },
    {
      "cell_type": "code",
      "metadata": {
        "id": "rMZ1X4ZytV9D",
        "colab_type": "code",
        "outputId": "f549f387-d92c-4d7e-e5f7-006dde0dde73",
        "colab": {
          "base_uri": "https://localhost:8080/",
          "height": 34
        }
      },
      "source": [
        "electric_str_soup=str(electric_soup)\n",
        "type(electric_str_soup)\n",
        "electric_split_urls=electric_str_soup.split('\\r\\n')\n",
        "print(len(electric_split_urls))"
      ],
      "execution_count": 0,
      "outputs": [
        {
          "output_type": "stream",
          "text": [
            "442\n"
          ],
          "name": "stdout"
        }
      ]
    },
    {
      "cell_type": "markdown",
      "metadata": {
        "id": "1qa_loP6cOz4",
        "colab_type": "text"
      },
      "source": [
        "# **Preparing the data**"
      ]
    },
    {
      "cell_type": "code",
      "metadata": {
        "id": "mISRS0kIuvcb",
        "colab_type": "code",
        "colab": {}
      },
      "source": [
        "!mkdir /content/instrument_train/ \n",
        "!mkdir /content/instrument_test/ \n",
        "\n",
        "!mkdir /content/instrument_train/stringed\n",
        "\n",
        "!mkdir /content/instrument_train/percussion \n",
        "\n",
        "!mkdir /content/instrument_train/wind \n",
        "\n",
        "!mkdir /content/instrument_train/keyboard \n",
        "\n",
        "!mkdir /content/instrument_train/bass \n",
        "\n",
        "!mkdir /content/instrument_train/barrel \n",
        "\n",
        "!mkdir /content/instrument_train/jews \n",
        "\n",
        "!mkdir /content/instrument_train/music \n",
        "\n",
        "!mkdir /content/instrument_train/electric "
      ],
      "execution_count": 0,
      "outputs": []
    },
    {
      "cell_type": "code",
      "metadata": {
        "id": "QWOvUmW3uz1d",
        "colab_type": "code",
        "colab": {}
      },
      "source": [
        "img_rows, img_cols = 32, 32 \n",
        "input_shape = (img_rows, img_cols, 3)\n",
        "\n",
        "def url_to_image(url):\n",
        "\tresp = urllib.request.urlopen(url)\n",
        "\timage = np.asarray(bytearray(resp.read()), dtype=\"uint8\")\n",
        "\timage = cv2.imdecode(image, cv2.IMREAD_COLOR)\n",
        " \n",
        "\t\n",
        "\treturn image\n",
        "\n",
        "n_of_training_images=150"
      ],
      "execution_count": 0,
      "outputs": []
    },
    {
      "cell_type": "code",
      "metadata": {
        "id": "hZi9nXmLvOEf",
        "colab_type": "code",
        "outputId": "52e4a333-8ddb-4a1b-f055-a6b9a5d17f38",
        "colab": {
          "base_uri": "https://localhost:8080/",
          "height": 151
        }
      },
      "source": [
        "for progress in range(n_of_training_images):\n",
        " \n",
        "    if(progress%20==0):\n",
        "        print(progress)\n",
        "    if not stringed_split_urls[progress] == None:\n",
        "      try:\n",
        "        I = url_to_image(stringed_split_urls[progress])\n",
        "        if (len(I.shape))==3: \n",
        "          save_path = '/content/instrument_train/stringed/stringed.'+str(progress)+'.jpg'\n",
        "          cv2.imwrite(save_path,I)\n",
        "\n",
        "      except:\n",
        "        None"
      ],
      "execution_count": 0,
      "outputs": [
        {
          "output_type": "stream",
          "text": [
            "0\n",
            "20\n",
            "40\n",
            "60\n",
            "80\n",
            "100\n",
            "120\n",
            "140\n"
          ],
          "name": "stdout"
        }
      ]
    },
    {
      "cell_type": "code",
      "metadata": {
        "id": "xiqaOJ96visX",
        "colab_type": "code",
        "outputId": "fb282a13-8781-48d6-bd69-7e972630a1ee",
        "colab": {
          "base_uri": "https://localhost:8080/",
          "height": 151
        }
      },
      "source": [
        "for progress in range(n_of_training_images):\n",
        " \n",
        "    if(progress%20==0):\n",
        "        print(progress)\n",
        "    if not percussion_split_urls[progress] == None:\n",
        "      try:\n",
        "        I = url_to_image(percussion_split_urls[progress])\n",
        "        if (len(I.shape))==3: \n",
        "          save_path = '/content/instrument_train/percussion/percussion.'+str(progress)+'.jpg'\n",
        "          cv2.imwrite(save_path,I)\n",
        "\n",
        "      except:\n",
        "        None"
      ],
      "execution_count": 0,
      "outputs": [
        {
          "output_type": "stream",
          "text": [
            "0\n",
            "20\n",
            "40\n",
            "60\n",
            "80\n",
            "100\n",
            "120\n",
            "140\n"
          ],
          "name": "stdout"
        }
      ]
    },
    {
      "cell_type": "code",
      "metadata": {
        "id": "PTV1taz-vulN",
        "colab_type": "code",
        "outputId": "83325cb2-d8ba-4734-d724-ce4c0d4db790",
        "colab": {
          "base_uri": "https://localhost:8080/",
          "height": 151
        }
      },
      "source": [
        "for progress in range(n_of_training_images):\n",
        " \n",
        "    if(progress%20==0):\n",
        "        print(progress)\n",
        "    if not wind_split_urls[progress] == None:\n",
        "      try:\n",
        "        I = url_to_image(wind_split_urls[progress])\n",
        "        if (len(I.shape))==3: \n",
        "          save_path = '/content/instrument_train/wind/wind.'+str(progress)+'.jpg'\n",
        "          cv2.imwrite(save_path,I)\n",
        "\n",
        "      except:\n",
        "        None"
      ],
      "execution_count": 0,
      "outputs": [
        {
          "output_type": "stream",
          "text": [
            "0\n",
            "20\n",
            "40\n",
            "60\n",
            "80\n",
            "100\n",
            "120\n",
            "140\n"
          ],
          "name": "stdout"
        }
      ]
    },
    {
      "cell_type": "code",
      "metadata": {
        "id": "S0tfoCfQvxta",
        "colab_type": "code",
        "outputId": "7a511c13-9725-46a4-ab3f-38812087d10a",
        "colab": {
          "base_uri": "https://localhost:8080/",
          "height": 151
        }
      },
      "source": [
        "for progress in range(n_of_training_images):\n",
        " \n",
        "    if(progress%20==0):\n",
        "        print(progress)\n",
        "    if not keyboard_split_urls[progress] == None:\n",
        "      try:\n",
        "        I = url_to_image(keyboar_split_urls[progress])\n",
        "        if (len(I.shape))==3: \n",
        "          save_path = '/content/instrument_train/keyboard/keyboard.'+str(progress)+'.jpg'\n",
        "          cv2.imwrite(save_path,I)\n",
        "\n",
        "      except:\n",
        "        None"
      ],
      "execution_count": 0,
      "outputs": [
        {
          "output_type": "stream",
          "text": [
            "0\n",
            "20\n",
            "40\n",
            "60\n",
            "80\n",
            "100\n",
            "120\n",
            "140\n"
          ],
          "name": "stdout"
        }
      ]
    },
    {
      "cell_type": "code",
      "metadata": {
        "id": "cuuKLsFivx3h",
        "colab_type": "code",
        "outputId": "bb74dd9e-d85a-41dd-915f-616e70226265",
        "colab": {
          "base_uri": "https://localhost:8080/",
          "height": 151
        }
      },
      "source": [
        "for progress in range(n_of_training_images):\n",
        " \n",
        "    if(progress%20==0):\n",
        "        print(progress)\n",
        "    if not bass_split_urls[progress] == None:\n",
        "      try:\n",
        "        I = url_to_image(bass_split_urls[progress])\n",
        "        if (len(I.shape))==3: \n",
        "          save_path = '/content/instrument_train/bass/bass.'+str(progress)+'.jpg'\n",
        "          cv2.imwrite(save_path,I)\n",
        "\n",
        "      except:\n",
        "        None"
      ],
      "execution_count": 0,
      "outputs": [
        {
          "output_type": "stream",
          "text": [
            "0\n",
            "20\n",
            "40\n",
            "60\n",
            "80\n",
            "100\n",
            "120\n",
            "140\n"
          ],
          "name": "stdout"
        }
      ]
    },
    {
      "cell_type": "code",
      "metadata": {
        "id": "2GAlJG5vvyHX",
        "colab_type": "code",
        "outputId": "26535baf-7934-4d5c-d1c4-42069b43801e",
        "colab": {
          "base_uri": "https://localhost:8080/",
          "height": 151
        }
      },
      "source": [
        "for progress in range(n_of_training_images):\n",
        " \n",
        "    if(progress%20==0):\n",
        "        print(progress)\n",
        "    if not barrel_split_urls[progress] == None:\n",
        "      try:\n",
        "        I = url_to_image(barrel_split_urls[progress])\n",
        "        if (len(I.shape))==3: \n",
        "          save_path = '/content/instrument_train/barrel/barrel.'+str(progress)+'.jpg'\n",
        "          cv2.imwrite(save_path,I)\n",
        "\n",
        "      except:\n",
        "        None"
      ],
      "execution_count": 0,
      "outputs": [
        {
          "output_type": "stream",
          "text": [
            "0\n",
            "20\n",
            "40\n",
            "60\n",
            "80\n",
            "100\n",
            "120\n",
            "140\n"
          ],
          "name": "stdout"
        }
      ]
    },
    {
      "cell_type": "code",
      "metadata": {
        "id": "uNr6hkwGvyPJ",
        "colab_type": "code",
        "outputId": "c3af6fb4-eb22-449a-ad23-ff584537eb8f",
        "colab": {
          "base_uri": "https://localhost:8080/",
          "height": 151
        }
      },
      "source": [
        "for progress in range(n_of_training_images):\n",
        " \n",
        "    if(progress%20==0):\n",
        "        print(progress)\n",
        "    if not jews_split_urls[progress] == None:\n",
        "      try:\n",
        "        I = url_to_image(jews_split_urls[progress])\n",
        "        if (len(I.shape))==3: \n",
        "          save_path = '/content/instrument_train/jews/jews.'+str(progress)+'.jpg'\n",
        "          cv2.imwrite(save_path,I)\n",
        "\n",
        "      except:\n",
        "        None"
      ],
      "execution_count": 0,
      "outputs": [
        {
          "output_type": "stream",
          "text": [
            "0\n",
            "20\n",
            "40\n",
            "60\n",
            "80\n",
            "100\n",
            "120\n",
            "140\n"
          ],
          "name": "stdout"
        }
      ]
    },
    {
      "cell_type": "code",
      "metadata": {
        "id": "i0MudJW1vylz",
        "colab_type": "code",
        "outputId": "f182bb0c-7006-4a13-a0a5-be40ccefc784",
        "colab": {
          "base_uri": "https://localhost:8080/",
          "height": 151
        }
      },
      "source": [
        "for progress in range(n_of_training_images):\n",
        " \n",
        "    if(progress%20==0):\n",
        "        print(progress)\n",
        "    if not music_split_urls[progress] == None:\n",
        "      try:\n",
        "        I = url_to_image(music_split_urls[progress])\n",
        "        if (len(I.shape))==3: \n",
        "          save_path = '/content/instrument_train/music/music.'+str(progress)+'.jpg'\n",
        "          cv2.imwrite(save_path,I)\n",
        "\n",
        "      except:\n",
        "        None"
      ],
      "execution_count": 0,
      "outputs": [
        {
          "output_type": "stream",
          "text": [
            "0\n",
            "20\n",
            "40\n",
            "60\n",
            "80\n",
            "100\n",
            "120\n",
            "140\n"
          ],
          "name": "stdout"
        }
      ]
    },
    {
      "cell_type": "code",
      "metadata": {
        "id": "p48iFJJFxcB3",
        "colab_type": "code",
        "outputId": "52683ed1-a388-4414-f37d-ca170dda004e",
        "colab": {
          "base_uri": "https://localhost:8080/",
          "height": 151
        }
      },
      "source": [
        "for progress in range(n_of_training_images):\n",
        " \n",
        "    if(progress%20==0):\n",
        "        print(progress)\n",
        "    if not electric_split_urls[progress] == None:\n",
        "      try:\n",
        "        I = url_to_image(electric_split_urls[progress])\n",
        "        if (len(I.shape))==3: \n",
        "          save_path = '/content/instrument_train/electric/electric.'+str(progress)+'.jpg'\n",
        "          cv2.imwrite(save_path,I)\n",
        "\n",
        "      except:\n",
        "        None"
      ],
      "execution_count": 0,
      "outputs": [
        {
          "output_type": "stream",
          "text": [
            "0\n",
            "20\n",
            "40\n",
            "60\n",
            "80\n",
            "100\n",
            "120\n",
            "140\n"
          ],
          "name": "stdout"
        }
      ]
    },
    {
      "cell_type": "markdown",
      "metadata": {
        "id": "o6sE07-uceWe",
        "colab_type": "text"
      },
      "source": [
        "# 2.1) Making the functions to get the training and validation set from the Images"
      ]
    },
    {
      "cell_type": "code",
      "metadata": {
        "id": "MTH7a08qkLQk",
        "colab_type": "code",
        "colab": {}
      },
      "source": [
        "X=[]\n",
        "Z=[]\n",
        "IMG_SIZE=150\n",
        "STRINGED_DIR='/content/instrument_train/stringed'\n",
        "PERCUSSION_DIR='/content/instrument_train/percussion'\n",
        "WIND_DIR='/content/instrument_train/wind'\n",
        "KEYBOARD_DIR='/content/instrument_train/keyboard'\n",
        "BASS_DIR='/content/instrument_train/bass'\n",
        "BARREL_DIR='/content/instrument_train/barrel'\n",
        "JEWS_DIR='/content/instrument_train/jews'\n",
        "MUSIC_DIR='/content/instrument_train/music'\n",
        "ELECTRIC_DIR='/content/instrument_train/electric'"
      ],
      "execution_count": 0,
      "outputs": []
    },
    {
      "cell_type": "code",
      "metadata": {
        "id": "ArUGtXWuk73h",
        "colab_type": "code",
        "colab": {}
      },
      "source": [
        "def assign_label(img,instrument_type):\n",
        "    return instrument_type"
      ],
      "execution_count": 0,
      "outputs": []
    },
    {
      "cell_type": "code",
      "metadata": {
        "id": "y4gkW-AElZFm",
        "colab_type": "code",
        "colab": {}
      },
      "source": [
        "def make_train_data(instrument_type,DIR):\n",
        "    for img in tqdm(os.listdir(DIR)):\n",
        "        label=assign_label(img,instrument_type)\n",
        "        path = os.path.join(DIR,img)\n",
        "        img = cv2.imread(path,cv2.IMREAD_COLOR)\n",
        "        img = cv2.resize(img, (IMG_SIZE,IMG_SIZE))\n",
        "        \n",
        "        X.append(np.array(img))\n",
        "        Z.append(str(label))\n",
        "        "
      ],
      "execution_count": 0,
      "outputs": []
    },
    {
      "cell_type": "code",
      "metadata": {
        "id": "lTdpdnG5DlGn",
        "colab_type": "code",
        "colab": {}
      },
      "source": [
        "from tqdm import tqdm"
      ],
      "execution_count": 0,
      "outputs": []
    },
    {
      "cell_type": "code",
      "metadata": {
        "id": "sMxE39A5lg8Z",
        "colab_type": "code",
        "outputId": "6a799c1d-3f02-4f17-a6bf-fc3df1e1ba3f",
        "colab": {
          "base_uri": "https://localhost:8080/",
          "height": 50
        }
      },
      "source": [
        "make_train_data('Stringed',STRINGED_DIR)\n",
        "print(len(X))"
      ],
      "execution_count": 0,
      "outputs": [
        {
          "output_type": "stream",
          "text": [
            "100%|██████████| 41/41 [00:00<00:00, 321.18it/s]"
          ],
          "name": "stderr"
        },
        {
          "output_type": "stream",
          "text": [
            "41\n"
          ],
          "name": "stdout"
        },
        {
          "output_type": "stream",
          "text": [
            "\n"
          ],
          "name": "stderr"
        }
      ]
    },
    {
      "cell_type": "code",
      "metadata": {
        "id": "ZZCqPkC8lq9x",
        "colab_type": "code",
        "outputId": "9d8ff580-a7ee-4ca2-9967-8e7fd612c644",
        "colab": {
          "base_uri": "https://localhost:8080/",
          "height": 50
        }
      },
      "source": [
        "make_train_data('Percussion',PERCUSSION_DIR)\n",
        "print(len(X))"
      ],
      "execution_count": 0,
      "outputs": [
        {
          "output_type": "stream",
          "text": [
            "100%|██████████| 69/69 [00:00<00:00, 247.58it/s]"
          ],
          "name": "stderr"
        },
        {
          "output_type": "stream",
          "text": [
            "110\n"
          ],
          "name": "stdout"
        },
        {
          "output_type": "stream",
          "text": [
            "\n"
          ],
          "name": "stderr"
        }
      ]
    },
    {
      "cell_type": "code",
      "metadata": {
        "id": "D--LzP4UlrCi",
        "colab_type": "code",
        "outputId": "b80d479b-b27a-4768-f77e-2b895c001aa5",
        "colab": {
          "base_uri": "https://localhost:8080/",
          "height": 50
        }
      },
      "source": [
        "make_train_data('Wind',WIND_DIR)\n",
        "print(len(X))"
      ],
      "execution_count": 0,
      "outputs": [
        {
          "output_type": "stream",
          "text": [
            "100%|██████████| 39/39 [00:00<00:00, 304.33it/s]"
          ],
          "name": "stderr"
        },
        {
          "output_type": "stream",
          "text": [
            "149\n"
          ],
          "name": "stdout"
        },
        {
          "output_type": "stream",
          "text": [
            "\n"
          ],
          "name": "stderr"
        }
      ]
    },
    {
      "cell_type": "code",
      "metadata": {
        "id": "I4UkHObilrIr",
        "colab_type": "code",
        "outputId": "907d3795-e505-475d-805b-ce5e5c0cbe1e",
        "colab": {
          "base_uri": "https://localhost:8080/",
          "height": 50
        }
      },
      "source": [
        "make_train_data('Keyboard',KEYBOARD_DIR)\n",
        "print(len(X))"
      ],
      "execution_count": 0,
      "outputs": [
        {
          "output_type": "stream",
          "text": [
            "\r0it [00:00, ?it/s]"
          ],
          "name": "stderr"
        },
        {
          "output_type": "stream",
          "text": [
            "149\n"
          ],
          "name": "stdout"
        },
        {
          "output_type": "stream",
          "text": [
            "\n"
          ],
          "name": "stderr"
        }
      ]
    },
    {
      "cell_type": "code",
      "metadata": {
        "id": "ZcfIlDRvlrPe",
        "colab_type": "code",
        "outputId": "e38a4071-670e-4c92-f10a-fe93c3bf24db",
        "colab": {
          "base_uri": "https://localhost:8080/",
          "height": 50
        }
      },
      "source": [
        "make_train_data('Bass',BASS_DIR)\n",
        "print(len(X))"
      ],
      "execution_count": 0,
      "outputs": [
        {
          "output_type": "stream",
          "text": [
            "100%|██████████| 86/86 [00:00<00:00, 311.14it/s]"
          ],
          "name": "stderr"
        },
        {
          "output_type": "stream",
          "text": [
            "235\n"
          ],
          "name": "stdout"
        },
        {
          "output_type": "stream",
          "text": [
            "\n"
          ],
          "name": "stderr"
        }
      ]
    },
    {
      "cell_type": "code",
      "metadata": {
        "id": "yxJGpNsmlrUu",
        "colab_type": "code",
        "outputId": "efd13640-6dfa-4ec2-e93a-64646696eda1",
        "colab": {
          "base_uri": "https://localhost:8080/",
          "height": 50
        }
      },
      "source": [
        "make_train_data('Barrel',BARREL_DIR)\n",
        "print(len(X))"
      ],
      "execution_count": 0,
      "outputs": [
        {
          "output_type": "stream",
          "text": [
            "100%|██████████| 65/65 [00:00<00:00, 214.99it/s]"
          ],
          "name": "stderr"
        },
        {
          "output_type": "stream",
          "text": [
            "300\n"
          ],
          "name": "stdout"
        },
        {
          "output_type": "stream",
          "text": [
            "\n"
          ],
          "name": "stderr"
        }
      ]
    },
    {
      "cell_type": "code",
      "metadata": {
        "id": "MpF6BCKplrYR",
        "colab_type": "code",
        "outputId": "d7074c15-64fe-45f5-e7f2-edffe023cba6",
        "colab": {
          "base_uri": "https://localhost:8080/",
          "height": 50
        }
      },
      "source": [
        "make_train_data('Jews',JEWS_DIR)\n",
        "print(len(X))"
      ],
      "execution_count": 0,
      "outputs": [
        {
          "output_type": "stream",
          "text": [
            "100%|██████████| 85/85 [00:00<00:00, 428.41it/s]\n"
          ],
          "name": "stderr"
        },
        {
          "output_type": "stream",
          "text": [
            "385\n"
          ],
          "name": "stdout"
        }
      ]
    },
    {
      "cell_type": "code",
      "metadata": {
        "id": "DZUaWzZrlrcN",
        "colab_type": "code",
        "outputId": "5531ce80-36fa-4306-cfed-742cd2b57126",
        "colab": {
          "base_uri": "https://localhost:8080/",
          "height": 50
        }
      },
      "source": [
        "make_train_data('Music',MUSIC_DIR)\n",
        "print(len(X))"
      ],
      "execution_count": 0,
      "outputs": [
        {
          "output_type": "stream",
          "text": [
            "100%|██████████| 47/47 [00:00<00:00, 524.53it/s]"
          ],
          "name": "stderr"
        },
        {
          "output_type": "stream",
          "text": [
            "432\n"
          ],
          "name": "stdout"
        },
        {
          "output_type": "stream",
          "text": [
            "\n"
          ],
          "name": "stderr"
        }
      ]
    },
    {
      "cell_type": "code",
      "metadata": {
        "id": "YErN9IA6lrfn",
        "colab_type": "code",
        "outputId": "af7784a7-31a7-4dce-a286-49ff65b1aedf",
        "colab": {
          "base_uri": "https://localhost:8080/",
          "height": 50
        }
      },
      "source": [
        "make_train_data('Electric',ELECTRIC_DIR)\n",
        "print(len(X))"
      ],
      "execution_count": 0,
      "outputs": [
        {
          "output_type": "stream",
          "text": [
            "100%|██████████| 56/56 [00:00<00:00, 368.23it/s]"
          ],
          "name": "stderr"
        },
        {
          "output_type": "stream",
          "text": [
            "488\n"
          ],
          "name": "stdout"
        },
        {
          "output_type": "stream",
          "text": [
            "\n"
          ],
          "name": "stderr"
        }
      ]
    },
    {
      "cell_type": "markdown",
      "metadata": {
        "id": "oZzyz9Ufbbhq",
        "colab_type": "text"
      },
      "source": [
        "# **Importing various modules**"
      ]
    },
    {
      "cell_type": "code",
      "metadata": {
        "id": "igjwuSXGDznB",
        "colab_type": "code",
        "outputId": "6dc7687a-109c-4c31-b782-f604c0a0d075",
        "colab": {
          "base_uri": "https://localhost:8080/",
          "height": 79
        }
      },
      "source": [
        "# Ignore  the warnings\n",
        "import warnings\n",
        "warnings.filterwarnings('always')\n",
        "warnings.filterwarnings('ignore')\n",
        "\n",
        "# data visualisation and manipulation\n",
        "import numpy as np\n",
        "import pandas as pd\n",
        "import matplotlib.pyplot as plt\n",
        "from matplotlib import style\n",
        "import seaborn as sns\n",
        " \n",
        "#configure\n",
        "# sets matplotlib to inline and displays graphs below the corressponding cell.\n",
        "%matplotlib inline  \n",
        "style.use('fivethirtyeight')\n",
        "sns.set(style='whitegrid',color_codes=True)\n",
        "\n",
        "#model selection\n",
        "from sklearn.model_selection import train_test_split\n",
        "from sklearn.model_selection import KFold\n",
        "from sklearn.metrics import accuracy_score,precision_score,recall_score,confusion_matrix,roc_curve,roc_auc_score\n",
        "from sklearn.model_selection import GridSearchCV\n",
        "from sklearn.preprocessing import LabelEncoder\n",
        "\n",
        "#preprocess.\n",
        "from keras.preprocessing.image import ImageDataGenerator\n",
        "\n",
        "#dl libraraies\n",
        "from keras import backend as K\n",
        "from keras.models import Sequential\n",
        "from keras.layers import Dense\n",
        "from keras.optimizers import Adam,SGD,Adagrad,Adadelta,RMSprop\n",
        "from keras.utils import to_categorical\n",
        "\n",
        "# specifically for cnn\n",
        "from keras.layers import Dropout, Flatten,Activation\n",
        "from keras.layers import Conv2D, MaxPooling2D, BatchNormalization\n",
        " \n",
        "import tensorflow as tf\n",
        "import random as rn\n",
        "\n",
        "# specifically for manipulating zipped images and getting numpy arrays of pixel values of images.\n",
        "import cv2                  \n",
        "import numpy as np  \n",
        "from tqdm import tqdm\n",
        "import os                   \n",
        "from random import shuffle  \n",
        "from zipfile import ZipFile\n",
        "from PIL import Image"
      ],
      "execution_count": 0,
      "outputs": [
        {
          "output_type": "stream",
          "text": [
            "Using TensorFlow backend.\n"
          ],
          "name": "stderr"
        },
        {
          "output_type": "display_data",
          "data": {
            "text/html": [
              "<p style=\"color: red;\">\n",
              "The default version of TensorFlow in Colab will soon switch to TensorFlow 2.x.<br>\n",
              "We recommend you <a href=\"https://www.tensorflow.org/guide/migrate\" target=\"_blank\">upgrade</a> now \n",
              "or ensure your notebook will continue to use TensorFlow 1.x via the <code>%tensorflow_version 1.x</code> magic:\n",
              "<a href=\"https://colab.research.google.com/notebooks/tensorflow_version.ipynb\" target=\"_blank\">more info</a>.</p>\n"
            ],
            "text/plain": [
              "<IPython.core.display.HTML object>"
            ]
          },
          "metadata": {
            "tags": []
          }
        }
      ]
    },
    {
      "cell_type": "markdown",
      "metadata": {
        "id": "CKrHcaJtcrS3",
        "colab_type": "text"
      },
      "source": [
        "# 2.2 ) Label Encoding the Y array (i.e. stringed->0, percussion->1 etc...) & then One Hot Encoding"
      ]
    },
    {
      "cell_type": "code",
      "metadata": {
        "id": "wIYwfKzblroW",
        "colab_type": "code",
        "colab": {}
      },
      "source": [
        "le=LabelEncoder()\n",
        "Y=le.fit_transform(Z)\n",
        "Y=to_categorical(Y,9)\n",
        "X=np.array(X)\n",
        "X=X/255"
      ],
      "execution_count": 0,
      "outputs": []
    },
    {
      "cell_type": "markdown",
      "metadata": {
        "id": "odVUnBLXc7T_",
        "colab_type": "text"
      },
      "source": [
        "# 2.3) Splitting into Training and Validation Sets"
      ]
    },
    {
      "cell_type": "code",
      "metadata": {
        "id": "2PGZYw-blrM3",
        "colab_type": "code",
        "colab": {}
      },
      "source": [
        "x_train,x_test,y_train,y_test=train_test_split(X,Y,test_size=0.25,random_state=42)"
      ],
      "execution_count": 0,
      "outputs": []
    },
    {
      "cell_type": "markdown",
      "metadata": {
        "id": "Fv2GfGfHdA2V",
        "colab_type": "text"
      },
      "source": [
        "# 2.4 ) Setting the Random Seeds"
      ]
    },
    {
      "cell_type": "code",
      "metadata": {
        "id": "WzxDboBZlrF1",
        "colab_type": "code",
        "colab": {}
      },
      "source": [
        "np.random.seed(42)\n",
        "rn.seed(42)\n",
        "tf.set_random_seed(42)"
      ],
      "execution_count": 0,
      "outputs": []
    },
    {
      "cell_type": "markdown",
      "metadata": {
        "id": "X4aca8iidJ9X",
        "colab_type": "text"
      },
      "source": [
        "# **3 ) Modelling**"
      ]
    },
    {
      "cell_type": "markdown",
      "metadata": {
        "id": "QpyyQj0RdSG4",
        "colab_type": "text"
      },
      "source": [
        "# 3.1 ) Building the ConvNet Model"
      ]
    },
    {
      "cell_type": "code",
      "metadata": {
        "id": "uYglH9hfmqir",
        "colab_type": "code",
        "colab": {}
      },
      "source": [
        "# # modelling starts using a CNN.\n",
        "\n",
        "model = Sequential()\n",
        "model.add(Conv2D(filters = 32, kernel_size = (5,5),padding = 'Same',activation ='relu', input_shape = (150,150,3)))\n",
        "model.add(MaxPooling2D(pool_size=(2,2)))\n",
        "\n",
        "\n",
        "model.add(Conv2D(filters = 64, kernel_size = (3,3),padding = 'Same',activation ='relu'))\n",
        "model.add(MaxPooling2D(pool_size=(2,2), strides=(2,2)))\n",
        " \n",
        "\n",
        "model.add(Conv2D(filters =96, kernel_size = (3,3),padding = 'Same',activation ='relu'))\n",
        "model.add(MaxPooling2D(pool_size=(2,2), strides=(2,2)))\n",
        "\n",
        "model.add(Conv2D(filters = 96, kernel_size = (3,3),padding = 'Same',activation ='relu'))\n",
        "model.add(MaxPooling2D(pool_size=(2,2), strides=(2,2)))\n",
        "\n",
        "model.add(Flatten())\n",
        "model.add(Dense(512))\n",
        "model.add(Activation('relu'))\n",
        "model.add(Dense(9, activation = \"softmax\"))"
      ],
      "execution_count": 0,
      "outputs": []
    },
    {
      "cell_type": "markdown",
      "metadata": {
        "id": "aXS5UkdVdXWG",
        "colab_type": "text"
      },
      "source": [
        "# 3.2 ) Using a LR Annealer"
      ]
    },
    {
      "cell_type": "code",
      "metadata": {
        "id": "oTeOg9MdmwB7",
        "colab_type": "code",
        "colab": {}
      },
      "source": [
        "batch_size=9\n",
        "epochs=20\n",
        "\n",
        "from keras.callbacks import ReduceLROnPlateau\n",
        "red_lr= ReduceLROnPlateau(monitor='val_acc',patience=3,verbose=1,factor=0.1)"
      ],
      "execution_count": 0,
      "outputs": []
    },
    {
      "cell_type": "markdown",
      "metadata": {
        "id": "QhP7xFuHdbX3",
        "colab_type": "text"
      },
      "source": [
        "# 3.3 ) Data Augmentation to prevent Overfitting\n"
      ]
    },
    {
      "cell_type": "code",
      "metadata": {
        "id": "cQrNMRexmzrh",
        "colab_type": "code",
        "colab": {}
      },
      "source": [
        "datagen = ImageDataGenerator(\n",
        "        featurewise_center=False,  # set input mean to 0 over the dataset\n",
        "        samplewise_center=False,  # set each sample mean to 0\n",
        "        featurewise_std_normalization=False,  # divide inputs by std of the dataset\n",
        "        samplewise_std_normalization=False,  # divide each input by its std\n",
        "        zca_whitening=False,  # apply ZCA whitening\n",
        "        rotation_range=10,  # randomly rotate images in the range (degrees, 0 to 180)\n",
        "        zoom_range = 0.1, # Randomly zoom image \n",
        "        width_shift_range=0.2,  # randomly shift images horizontally (fraction of total width)\n",
        "        height_shift_range=0.2,  # randomly shift images vertically (fraction of total height)\n",
        "        horizontal_flip=True,  # randomly flip images\n",
        "        vertical_flip=False)  # randomly flip images\n",
        "\n",
        "\n",
        "datagen.fit(x_train)"
      ],
      "execution_count": 0,
      "outputs": []
    },
    {
      "cell_type": "markdown",
      "metadata": {
        "id": "xGQRtL-UdfRf",
        "colab_type": "text"
      },
      "source": [
        "# 3.4 ) Compiling the Keras Model & Summary"
      ]
    },
    {
      "cell_type": "code",
      "metadata": {
        "id": "4yXKriZOm0WO",
        "colab_type": "code",
        "colab": {}
      },
      "source": [
        "model.compile(optimizer=Adam(lr=0.001),loss='binary_crossentropy',metrics=['accuracy'])"
      ],
      "execution_count": 0,
      "outputs": []
    },
    {
      "cell_type": "code",
      "metadata": {
        "id": "03DqtpK0m5eU",
        "colab_type": "code",
        "outputId": "8238ab23-4da9-4c9c-8302-da37341e745a",
        "colab": {
          "base_uri": "https://localhost:8080/",
          "height": 554
        }
      },
      "source": [
        "model.summary()"
      ],
      "execution_count": 0,
      "outputs": [
        {
          "output_type": "stream",
          "text": [
            "Model: \"sequential_3\"\n",
            "_________________________________________________________________\n",
            "Layer (type)                 Output Shape              Param #   \n",
            "=================================================================\n",
            "conv2d_9 (Conv2D)            (None, 150, 150, 32)      2432      \n",
            "_________________________________________________________________\n",
            "max_pooling2d_9 (MaxPooling2 (None, 75, 75, 32)        0         \n",
            "_________________________________________________________________\n",
            "conv2d_10 (Conv2D)           (None, 75, 75, 64)        18496     \n",
            "_________________________________________________________________\n",
            "max_pooling2d_10 (MaxPooling (None, 37, 37, 64)        0         \n",
            "_________________________________________________________________\n",
            "conv2d_11 (Conv2D)           (None, 37, 37, 96)        55392     \n",
            "_________________________________________________________________\n",
            "max_pooling2d_11 (MaxPooling (None, 18, 18, 96)        0         \n",
            "_________________________________________________________________\n",
            "conv2d_12 (Conv2D)           (None, 18, 18, 96)        83040     \n",
            "_________________________________________________________________\n",
            "max_pooling2d_12 (MaxPooling (None, 9, 9, 96)          0         \n",
            "_________________________________________________________________\n",
            "flatten_3 (Flatten)          (None, 7776)              0         \n",
            "_________________________________________________________________\n",
            "dense_5 (Dense)              (None, 512)               3981824   \n",
            "_________________________________________________________________\n",
            "activation_3 (Activation)    (None, 512)               0         \n",
            "_________________________________________________________________\n",
            "dense_6 (Dense)              (None, 9)                 4617      \n",
            "=================================================================\n",
            "Total params: 4,145,801\n",
            "Trainable params: 4,145,801\n",
            "Non-trainable params: 0\n",
            "_________________________________________________________________\n"
          ],
          "name": "stdout"
        }
      ]
    },
    {
      "cell_type": "markdown",
      "metadata": {
        "id": "7xtIWSLndkNH",
        "colab_type": "text"
      },
      "source": [
        "# 3.5 ) Fitting on the Training set and making predcitons on the Validation set"
      ]
    },
    {
      "cell_type": "code",
      "metadata": {
        "id": "FRxkElvWm7TQ",
        "colab_type": "code",
        "outputId": "a44036da-d679-41f0-981e-05650505bafb",
        "colab": {
          "base_uri": "https://localhost:8080/",
          "height": 689
        }
      },
      "source": [
        "History = model.fit_generator(datagen.flow(x_train,y_train, batch_size=batch_size),\n",
        "                              epochs = epochs, validation_data = (x_test,y_test), \n",
        "                              verbose = 1, steps_per_epoch=x_train.shape[0] // batch_size)\n",
        "# model.fit(x_train,y_train,epochs=epochs,batch_size=batch_size,validation_data = (x_test,y_test))"
      ],
      "execution_count": 0,
      "outputs": [
        {
          "output_type": "stream",
          "text": [
            "Epoch 1/20\n",
            "40/40 [==============================] - 2s 59ms/step - loss: 0.3424 - acc: 0.8889 - val_loss: 0.3404 - val_acc: 0.8889\n",
            "Epoch 2/20\n",
            "40/40 [==============================] - 2s 45ms/step - loss: 0.3326 - acc: 0.8889 - val_loss: 0.3424 - val_acc: 0.8889\n",
            "Epoch 3/20\n",
            "40/40 [==============================] - 2s 44ms/step - loss: 0.3314 - acc: 0.8889 - val_loss: 0.3345 - val_acc: 0.8880\n",
            "Epoch 4/20\n",
            "40/40 [==============================] - 2s 44ms/step - loss: 0.3307 - acc: 0.8889 - val_loss: 0.3289 - val_acc: 0.8889\n",
            "Epoch 5/20\n",
            "40/40 [==============================] - 2s 43ms/step - loss: 0.3273 - acc: 0.8886 - val_loss: 0.3348 - val_acc: 0.8889\n",
            "Epoch 6/20\n",
            "40/40 [==============================] - 2s 44ms/step - loss: 0.3303 - acc: 0.8886 - val_loss: 0.3302 - val_acc: 0.8889\n",
            "Epoch 7/20\n",
            "40/40 [==============================] - 2s 50ms/step - loss: 0.3267 - acc: 0.8889 - val_loss: 0.3252 - val_acc: 0.8889\n",
            "Epoch 8/20\n",
            "40/40 [==============================] - 2s 46ms/step - loss: 0.3202 - acc: 0.8895 - val_loss: 0.3273 - val_acc: 0.8862\n",
            "Epoch 9/20\n",
            "40/40 [==============================] - 2s 43ms/step - loss: 0.3212 - acc: 0.8883 - val_loss: 0.3226 - val_acc: 0.8889\n",
            "Epoch 10/20\n",
            "40/40 [==============================] - 2s 46ms/step - loss: 0.3192 - acc: 0.8886 - val_loss: 0.3246 - val_acc: 0.8843\n",
            "Epoch 11/20\n",
            "40/40 [==============================] - 2s 43ms/step - loss: 0.3205 - acc: 0.8886 - val_loss: 0.3148 - val_acc: 0.8889\n",
            "Epoch 12/20\n",
            "40/40 [==============================] - 2s 45ms/step - loss: 0.3065 - acc: 0.8886 - val_loss: 0.3207 - val_acc: 0.8889\n",
            "Epoch 13/20\n",
            "40/40 [==============================] - 2s 44ms/step - loss: 0.3158 - acc: 0.8889 - val_loss: 0.3181 - val_acc: 0.8889\n",
            "Epoch 14/20\n",
            "40/40 [==============================] - 2s 44ms/step - loss: 0.3141 - acc: 0.8898 - val_loss: 0.3186 - val_acc: 0.8880\n",
            "Epoch 15/20\n",
            "40/40 [==============================] - 2s 44ms/step - loss: 0.3074 - acc: 0.8886 - val_loss: 0.3027 - val_acc: 0.8934\n",
            "Epoch 16/20\n",
            "40/40 [==============================] - 2s 44ms/step - loss: 0.3132 - acc: 0.8883 - val_loss: 0.3274 - val_acc: 0.8889\n",
            "Epoch 17/20\n",
            "40/40 [==============================] - 2s 44ms/step - loss: 0.3017 - acc: 0.8892 - val_loss: 0.3178 - val_acc: 0.8871\n",
            "Epoch 18/20\n",
            "40/40 [==============================] - 2s 44ms/step - loss: 0.3114 - acc: 0.8889 - val_loss: 0.3081 - val_acc: 0.8898\n",
            "Epoch 19/20\n",
            "40/40 [==============================] - 2s 44ms/step - loss: 0.3111 - acc: 0.8890 - val_loss: 0.3180 - val_acc: 0.8889\n",
            "Epoch 20/20\n",
            "40/40 [==============================] - 2s 45ms/step - loss: 0.2956 - acc: 0.8889 - val_loss: 0.3112 - val_acc: 0.8907\n"
          ],
          "name": "stdout"
        }
      ]
    },
    {
      "cell_type": "markdown",
      "metadata": {
        "id": "iyFlG3YJdpTk",
        "colab_type": "text"
      },
      "source": [
        "# 4 ) Evaluating the Model Performance"
      ]
    },
    {
      "cell_type": "code",
      "metadata": {
        "id": "m8a9NqnKnAgC",
        "colab_type": "code",
        "outputId": "b7ddd89b-9e0f-4e1d-f8ca-ca8d2b20987d",
        "colab": {
          "base_uri": "https://localhost:8080/",
          "height": 317
        }
      },
      "source": [
        "plt.plot(History.history['loss'])\n",
        "plt.plot(History.history['val_loss'])\n",
        "plt.title('Model Loss')\n",
        "plt.ylabel('Loss')\n",
        "plt.xlabel('Epochs')\n",
        "plt.legend(['train', 'test'])\n",
        "plt.show()"
      ],
      "execution_count": 0,
      "outputs": [
        {
          "output_type": "display_data",
          "data": {
            "image/png": "[encoded data removed]",
            "text/plain": [
              "<Figure size 432x288 with 1 Axes>"
            ]
          },
          "metadata": {
            "tags": []
          }
        }
      ]
    },
    {
      "cell_type": "code",
      "metadata": {
        "id": "Glw6GKqynCn9",
        "colab_type": "code",
        "outputId": "c21dc3e0-d009-452b-8579-73fe8211147e",
        "colab": {
          "base_uri": "https://localhost:8080/",
          "height": 317
        }
      },
      "source": [
        "plt.plot(History.history['acc'])\n",
        "plt.plot(History.history['val_acc'])\n",
        "plt.title('Model Accuracy')\n",
        "plt.ylabel('Accuracy')\n",
        "plt.xlabel('Epochs')\n",
        "plt.legend(['train', 'test'])\n",
        "plt.show()\n"
      ],
      "execution_count": 0,
      "outputs": [
        {
          "output_type": "display_data",
          "data": {
            "image/png": "[encoded data removed]",
            "text/plain": [
              "<Figure size 432x288 with 1 Axes>"
            ]
          },
          "metadata": {
            "tags": []
          }
        }
      ]
    }
  ]
}