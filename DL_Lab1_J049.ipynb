{
  "nbformat": 4,
  "nbformat_minor": 0,
  "metadata": {
    "colab": {
      "name": "DL_Lab1_J049.ipynb",
      "provenance": [],
      "collapsed_sections": [],
      "include_colab_link": true
    },
    "kernelspec": {
      "name": "python3",
      "display_name": "Python 3"
    }
  },
  "cells": [
    {
      "cell_type": "markdown",
      "metadata": {
        "id": "view-in-github",
        "colab_type": "text"
      },
      "source": [
        "<a href=\"https://colab.research.google.com/github/hrithikashukla/DL/blob/master/DL_Lab1_J049.ipynb\" target=\"_parent\"><img src=\"https://colab.research.google.com/assets/colab-badge.svg\" alt=\"Open In Colab\"/></a>"
      ]
    },
    {
      "cell_type": "markdown",
      "metadata": {
        "id": "-LPdeJnLbhP5",
        "colab_type": "text"
      },
      "source": [
        "# Keras package in Python\n",
        "\n",
        "Keras is a high-level neural networks API, written in Python and capable of running on top of TensorFlow, CNTK, or Theano. It was developed with a focus on enabling fast experimentation. Being able to go from idea to result with the least possible delay is key to doing good research.\n",
        "\n",
        "Use Keras if you need a deep learning library that:\n",
        "\n",
        "Allows for easy and fast prototyping (through user friendliness, modularity, and extensibility).\n",
        "Supports both convolutional networks and recurrent networks, as well as combinations of the two.\n",
        "Runs seamlessly on CPU and GPU.\n",
        "Read the documentation at Keras.io.\n",
        "\n",
        "Keras is compatible with: Python 2.7-3.6."
      ]
    },
    {
      "cell_type": "markdown",
      "metadata": {
        "id": "j5qa9OtRbyqO",
        "colab_type": "text"
      },
      "source": [
        "The core data structure of Keras is a **model**, a way to organize layers. The simplest type of model is the Sequential model, a linear stack of layers. For more complex architectures, you should use the Keras functional API, which allows to build arbitrary graphs of layers."
      ]
    },
    {
      "cell_type": "code",
      "metadata": {
        "id": "F6zlphu1bZIC",
        "colab_type": "code",
        "colab": {}
      },
      "source": [
        "#Here is the Sequential model:\n",
        "\n",
        "from keras.models import Sequential\n",
        "\n",
        "model = Sequential()"
      ],
      "execution_count": 0,
      "outputs": []
    },
    {
      "cell_type": "code",
      "metadata": {
        "id": "PHysZQcdcAza",
        "colab_type": "code",
        "colab": {}
      },
      "source": [
        "#Stacking layers is as easy as .add():\n",
        "\n",
        "from keras.layers import Dense\n",
        "\n",
        "model.add(Dense(units=64, activation='relu', input_dim=100))\n",
        "model.add(Dense(units=1, activation='softmax'))"
      ],
      "execution_count": 0,
      "outputs": []
    },
    {
      "cell_type": "markdown",
      "metadata": {
        "id": "fBcPLRoqd9iH",
        "colab_type": "text"
      },
      "source": [
        "# Compilation\n",
        "\n",
        "Before training a model, you need to configure the learning process, which is done via the compile method. It receives three arguments:\n",
        "\n",
        "An optimizer. This could be the string identifier of an existing optimizer (such as rmsprop or adagrad), or an instance of the Optimizer class. \n",
        "\n",
        "\n",
        "A loss function. This is the objective that the model will try to minimize. It can be the string identifier of an existing loss function (such as categorical_crossentropy or mse), or it can be an objective function. \n",
        "\n",
        "A list of metrics. For any classification problem you will want to set this to metrics=['accuracy']. A metric could be the string identifier of an existing metric or a custom metric function. \n"
      ]
    },
    {
      "cell_type": "code",
      "metadata": {
        "id": "XD6V0BrQcCNh",
        "colab_type": "code",
        "colab": {}
      },
      "source": [
        "#Once your model looks good, configure its learning process with .compile():\n",
        "\n",
        "model.compile(loss='binary_crossentropy', optimizer='sgd', metrics=['accuracy'])"
      ],
      "execution_count": 0,
      "outputs": []
    },
    {
      "cell_type": "markdown",
      "metadata": {
        "id": "XpokwhIudqU7",
        "colab_type": "text"
      },
      "source": [
        "# Specifying the input shape\n",
        "\n",
        "The model needs to know what input shape it should expect. For this reason, the first layer in a Sequential model (and only the first, because following layers can do automatic shape inference) needs to receive information about its input shape. There are several possible ways to do this:\n",
        "\n",
        "Pass an input_shape argument to the first layer. This is a shape tuple (a tuple of integers or None entries, where None indicates that any positive integer may be expected). In input_shape, the batch dimension is not included.\n",
        "\n",
        "Some 2D layers, such as Dense, support the specification of their input shape via the argument input_dim, and some 3D temporal layers support the arguments input_dim and input_length.\n"
      ]
    },
    {
      "cell_type": "code",
      "metadata": {
        "id": "0q7KHVXVd47_",
        "colab_type": "code",
        "colab": {}
      },
      "source": [
        "# Generate dummy data\n",
        "import numpy as np\n",
        "data = np.random.random((1000, 100))\n",
        "labels = np.random.randint(2, size=(1000, 1))"
      ],
      "execution_count": 0,
      "outputs": []
    },
    {
      "cell_type": "code",
      "metadata": {
        "id": "4T2tgwU0e-fX",
        "colab_type": "code",
        "outputId": "fb69973f-de88-4c62-edd3-366ed8202615",
        "colab": {
          "base_uri": "https://localhost:8080/",
          "height": 33
        }
      },
      "source": [
        "# Check the shape of inputs\n",
        "data.shape"
      ],
      "execution_count": 0,
      "outputs": [
        {
          "output_type": "execute_result",
          "data": {
            "text/plain": [
              "(1000, 100)"
            ]
          },
          "metadata": {
            "tags": []
          },
          "execution_count": 19
        }
      ]
    },
    {
      "cell_type": "code",
      "metadata": {
        "id": "b7wfi1JJfFtu",
        "colab_type": "code",
        "outputId": "b56ba83c-ff55-409e-9d8d-ed5d386f6939",
        "colab": {
          "base_uri": "https://localhost:8080/",
          "height": 33
        }
      },
      "source": [
        "# Check the shape of labels\n",
        "labels.shape"
      ],
      "execution_count": 0,
      "outputs": [
        {
          "output_type": "execute_result",
          "data": {
            "text/plain": [
              "(1000, 1)"
            ]
          },
          "metadata": {
            "tags": []
          },
          "execution_count": 20
        }
      ]
    },
    {
      "cell_type": "markdown",
      "metadata": {
        "id": "yqYljCVFeLBj",
        "colab_type": "text"
      },
      "source": [
        "# Training\n",
        "\n",
        "Keras models are trained on Numpy arrays of input data and labels. For training a model, you will typically use the fit function. "
      ]
    },
    {
      "cell_type": "code",
      "metadata": {
        "id": "ZG96MZWdeP5F",
        "colab_type": "code",
        "outputId": "3ab1bf26-f6ce-4929-86a9-c8c2c5d68df5",
        "colab": {
          "base_uri": "https://localhost:8080/",
          "height": 358
        }
      },
      "source": [
        "# Train the model, iterating on the data in batches of 32 samples\n",
        "model.fit(data, labels, epochs=10, batch_size=32)"
      ],
      "execution_count": 0,
      "outputs": [
        {
          "output_type": "stream",
          "text": [
            "Epoch 1/10\n",
            "1000/1000 [==============================] - 0s 261us/step - loss: 8.0509 - acc: 0.4950\n",
            "Epoch 2/10\n",
            "1000/1000 [==============================] - 0s 42us/step - loss: 8.0509 - acc: 0.4950\n",
            "Epoch 3/10\n",
            "1000/1000 [==============================] - 0s 43us/step - loss: 8.0509 - acc: 0.4950\n",
            "Epoch 4/10\n",
            "1000/1000 [==============================] - 0s 42us/step - loss: 8.0509 - acc: 0.4950\n",
            "Epoch 5/10\n",
            "1000/1000 [==============================] - 0s 50us/step - loss: 8.0509 - acc: 0.4950\n",
            "Epoch 6/10\n",
            "1000/1000 [==============================] - 0s 48us/step - loss: 8.0509 - acc: 0.4950\n",
            "Epoch 7/10\n",
            "1000/1000 [==============================] - 0s 41us/step - loss: 8.0509 - acc: 0.4950\n",
            "Epoch 8/10\n",
            "1000/1000 [==============================] - 0s 44us/step - loss: 8.0509 - acc: 0.4950\n",
            "Epoch 9/10\n",
            "1000/1000 [==============================] - 0s 44us/step - loss: 8.0509 - acc: 0.4950\n",
            "Epoch 10/10\n",
            "1000/1000 [==============================] - 0s 40us/step - loss: 8.0509 - acc: 0.4950\n"
          ],
          "name": "stdout"
        },
        {
          "output_type": "execute_result",
          "data": {
            "text/plain": [
              "<keras.callbacks.History at 0x7f8f44a635f8>"
            ]
          },
          "metadata": {
            "tags": []
          },
          "execution_count": 21
        }
      ]
    },
    {
      "cell_type": "markdown",
      "metadata": {
        "id": "xUSaXF22foxp",
        "colab_type": "text"
      },
      "source": [
        "# Exercise 1: Build a Sequential model with two layers. \n",
        "\n",
        "Layer 1 is dense with 32 nodes and 'relu' activation function. Input dimension is 100.\n",
        "\n",
        "Layer 2 is dense with 10 nodes and 'softmax' activation function.\n",
        "\n",
        "Compile the model with optimizer 'rmsprop',             loss='categorical_crossentropy' and metrics=['accuracy']\n",
        "\n",
        "\n",
        "Generate dummy data using np.random.random 1000, 100 and dummy labels of 10 categories with size 1000,1\n",
        "\n",
        "\n",
        "## Convert labels to categorical one-hot encoding using below statement\n",
        "from keras.utils import to_categorical\n",
        "one_hot_labels = to_categorical(labels, num_classes=10)\n",
        "\n",
        "Finally, Train the model, iterating on the data in batches of 32 samples\n",
        "\n",
        "\n",
        "\n",
        "\n"
      ]
    },
    {
      "cell_type": "markdown",
      "metadata": {
        "colab_type": "text",
        "id": "qcDgrrebvlSO"
      },
      "source": [
        "Double-click <b>here</b> for the solution.\n",
        "\n",
        "<!-- The answer is below:\n",
        "\n",
        "from keras.utils import to_categorical\n",
        "model = Sequential()\n",
        "model.add(Dense(32, activation='relu', input_dim=100))\n",
        "model.add(Dense(10, activation='softmax'))\n",
        "model.compile(optimizer='rmsprop',\n",
        "              loss='categorical_crossentropy',\n",
        "              metrics=['accuracy'])\n",
        "\n",
        "# Generate dummy data\n",
        "import numpy as np\n",
        "data = np.random.random((1000, 100))\n",
        "labels = np.random.randint(10, size=(1000, 1))\n",
        "\n",
        "# Convert labels to categorical one-hot encoding\n",
        "one_hot_labels = to_categorical(labels, num_classes=10)\n",
        "\n",
        "# Train the model, iterating on the data in batches of 32 samples\n",
        "model.fit(data, one_hot_labels, epochs=10, batch_size=32)\n",
        "\n",
        "-->"
      ]
    },
    {
      "cell_type": "code",
      "metadata": {
        "id": "LFAuPHHFwOoX",
        "colab_type": "code",
        "outputId": "70ba0359-1f95-49a2-8e63-87589a8334a3",
        "colab": {
          "base_uri": "https://localhost:8080/",
          "height": 358
        }
      },
      "source": [
        "from keras.utils import to_categorical\n",
        "model = Sequential()\n",
        "model.add(Dense(32, activation='relu', input_dim=100))\n",
        "model.add(Dense(10, activation='softmax'))\n",
        "model.compile(optimizer='rmsprop',\n",
        "              loss='categorical_crossentropy',\n",
        "              metrics=['accuracy'])\n",
        "\n",
        "# Generate dummy data\n",
        "import numpy as np\n",
        "data = np.random.random((1000, 100))\n",
        "labels = np.random.randint(10, size=(1000, 1))\n",
        "\n",
        "# Convert labels to categorical one-hot encoding\n",
        "one_hot_labels = to_categorical(labels, num_classes=10)\n",
        "\n",
        "# Train the model, iterating on the data in batches of 32 samples\n",
        "model.fit(data, one_hot_labels, epochs=10, batch_size=32)\n"
      ],
      "execution_count": 0,
      "outputs": [
        {
          "output_type": "stream",
          "text": [
            "Epoch 1/10\n",
            "1000/1000 [==============================] - 0s 256us/step - loss: 2.3453 - acc: 0.1110\n",
            "Epoch 2/10\n",
            "1000/1000 [==============================] - 0s 41us/step - loss: 2.3154 - acc: 0.1100\n",
            "Epoch 3/10\n",
            "1000/1000 [==============================] - 0s 47us/step - loss: 2.3003 - acc: 0.1130\n",
            "Epoch 4/10\n",
            "1000/1000 [==============================] - 0s 42us/step - loss: 2.2892 - acc: 0.1280\n",
            "Epoch 5/10\n",
            "1000/1000 [==============================] - 0s 40us/step - loss: 2.2780 - acc: 0.1290\n",
            "Epoch 6/10\n",
            "1000/1000 [==============================] - 0s 43us/step - loss: 2.2704 - acc: 0.1490\n",
            "Epoch 7/10\n",
            "1000/1000 [==============================] - 0s 41us/step - loss: 2.2563 - acc: 0.1550\n",
            "Epoch 8/10\n",
            "1000/1000 [==============================] - 0s 42us/step - loss: 2.2496 - acc: 0.1500\n",
            "Epoch 9/10\n",
            "1000/1000 [==============================] - 0s 50us/step - loss: 2.2385 - acc: 0.1750\n",
            "Epoch 10/10\n",
            "1000/1000 [==============================] - 0s 41us/step - loss: 2.2253 - acc: 0.1770\n"
          ],
          "name": "stdout"
        },
        {
          "output_type": "execute_result",
          "data": {
            "text/plain": [
              "<keras.callbacks.History at 0x7f8f37c45f98>"
            ]
          },
          "metadata": {
            "tags": []
          },
          "execution_count": 22
        }
      ]
    },
    {
      "cell_type": "markdown",
      "metadata": {
        "id": "kVpe2f24jTIW",
        "colab_type": "text"
      },
      "source": [
        "# Exercise 2: Building a Basic Keras Neural Network Sequential Model to classify MNIST dataset\n",
        "\n",
        "First we import package and a set hyperparameter and identify dataset variables.\n",
        "\n"
      ]
    },
    {
      "cell_type": "code",
      "metadata": {
        "id": "gl3kYpMSjqUO",
        "colab_type": "code",
        "colab": {}
      },
      "source": [
        "from keras import models\n",
        "from keras.layers import Dense, Dropout\n",
        "from keras.utils import to_categorical\n",
        "from keras.datasets import mnist\n",
        "from keras.utils.vis_utils import model_to_dot\n",
        "from IPython.display import SVG\n",
        "\n",
        "NUM_ROWS = 28\n",
        "NUM_COLS = 28\n",
        "NUM_CLASSES = 10\n",
        "BATCH_SIZE = 128\n",
        "EPOCHS = 10"
      ],
      "execution_count": 0,
      "outputs": []
    },
    {
      "cell_type": "markdown",
      "metadata": {
        "id": "Qr-2yrEUjt5Q",
        "colab_type": "text"
      },
      "source": [
        "## Next is a function for outputting some simple (but useful) metadata of our dataset."
      ]
    },
    {
      "cell_type": "code",
      "metadata": {
        "id": "koiwyv_Jj0Yf",
        "colab_type": "code",
        "colab": {}
      },
      "source": [
        "def data_summary(X_train, y_train, X_test, y_test):\n",
        "    \"\"\"Summarize current state of dataset\"\"\"\n",
        "    print('Train images shape:', X_train.shape)\n",
        "    print('Train labels shape:', y_train.shape)\n",
        "    print('Test images shape:', X_test.shape)\n",
        "    print('Test labels shape:', y_test.shape)\n",
        "    print('Train labels:', y_train)\n",
        "    print('Test labels:', y_test)"
      ],
      "execution_count": 0,
      "outputs": []
    },
    {
      "cell_type": "markdown",
      "metadata": {
        "id": "DcHaDkegj-LU",
        "colab_type": "text"
      },
      "source": [
        "## Next we load our dataset (MNIST, using Keras' dataset utilities), and then use the function above to get some dataset metadata."
      ]
    },
    {
      "cell_type": "code",
      "metadata": {
        "id": "BeMLUCHHkBJy",
        "colab_type": "code",
        "outputId": "13bec370-f751-44d5-acb2-4d355e5c8466",
        "colab": {
          "base_uri": "https://localhost:8080/",
          "height": 115
        }
      },
      "source": [
        "# Load data\n",
        "(X_train, y_train), (X_test, y_test) = mnist.load_data()\n",
        "\n",
        "# Check state of dataset\n",
        "data_summary(X_train, y_train, X_test, y_test)"
      ],
      "execution_count": 0,
      "outputs": [
        {
          "output_type": "stream",
          "text": [
            "Train images shape: (60000, 28, 28)\n",
            "Train labels shape: (60000,)\n",
            "Test images shape: (10000, 28, 28)\n",
            "Test labels shape: (10000,)\n",
            "Train labels: [5 0 4 ... 5 6 8]\n",
            "Test labels: [7 2 1 ... 4 5 6]\n"
          ],
          "name": "stdout"
        }
      ]
    },
    {
      "cell_type": "markdown",
      "metadata": {
        "id": "CQBMRuA5kKTQ",
        "colab_type": "text"
      },
      "source": [
        "To feed MNIST instances into a neural network, they need to be reshaped, from a 2 dimensional image representation to a single dimension sequence. We also convert our class vector to a binary matrix (using to_categorical). This is accomplished below, after which the same function defined above is called again in order to show the effects of our data reshaping."
      ]
    },
    {
      "cell_type": "code",
      "metadata": {
        "id": "fRwDGnB8kLpm",
        "colab_type": "code",
        "outputId": "e223161a-91a8-4c34-d73d-920207875891",
        "colab": {
          "base_uri": "https://localhost:8080/",
          "height": 310
        }
      },
      "source": [
        "# Reshape data\n",
        "X_train = X_train.reshape((X_train.shape[0], NUM_ROWS * NUM_COLS))\n",
        "X_train = X_train.astype('float32') / 255\n",
        "X_test = X_test.reshape((X_test.shape[0], NUM_ROWS * NUM_COLS))\n",
        "X_test = X_test.astype('float32') / 255\n",
        "\n",
        "# Categorically encode labels\n",
        "y_train = to_categorical(y_train, NUM_CLASSES)\n",
        "y_test = to_categorical(y_test, NUM_CLASSES)\n",
        "\n",
        "# Check state of dataset\n",
        "data_summary(X_train, y_train, X_test, y_test)"
      ],
      "execution_count": 0,
      "outputs": [
        {
          "output_type": "stream",
          "text": [
            "Train images shape: (60000, 784)\n",
            "Train labels shape: (60000, 10)\n",
            "Test images shape: (10000, 784)\n",
            "Test labels shape: (10000, 10)\n",
            "Train labels: [[0. 0. 0. ... 0. 0. 0.]\n",
            " [1. 0. 0. ... 0. 0. 0.]\n",
            " [0. 0. 0. ... 0. 0. 0.]\n",
            " ...\n",
            " [0. 0. 0. ... 0. 0. 0.]\n",
            " [0. 0. 0. ... 0. 0. 0.]\n",
            " [0. 0. 0. ... 0. 1. 0.]]\n",
            "Test labels: [[0. 0. 0. ... 1. 0. 0.]\n",
            " [0. 0. 1. ... 0. 0. 0.]\n",
            " [0. 1. 0. ... 0. 0. 0.]\n",
            " ...\n",
            " [0. 0. 0. ... 0. 0. 0.]\n",
            " [0. 0. 0. ... 0. 0. 0.]\n",
            " [0. 0. 0. ... 0. 0. 0.]]\n"
          ],
          "name": "stdout"
        }
      ]
    },
    {
      "cell_type": "markdown",
      "metadata": {
        "colab_type": "text",
        "id": "ho-Gqe4elgoK"
      },
      "source": [
        "#Build a Sequential model of Neural Network with three dense layers.\n",
        "\n",
        "\n",
        "\n",
        "1.   Layer 1, 2 and 3 have 512, 256 and 10 nodes respectively. Activation function of first two layers is relu and final layer is softmax.\n",
        "2.   Compile model with optimizer='rmsprop',               loss='categorical_crossentropy' and metrics=['accuracy']\n",
        "3. Train the model with two additional parameters verbose=1 and validation_data=(X_test, y_test)\n",
        "\n",
        "\n",
        "\n",
        "\n",
        "\n"
      ]
    },
    {
      "cell_type": "markdown",
      "metadata": {
        "id": "F2ajV6BzmA8E",
        "colab_type": "text"
      },
      "source": [
        "Double-click <b>here</b> for the solution.\n",
        "\n",
        "<!-- The answer is below:\n",
        "# Build neural network\n",
        "model = models.Sequential()\n",
        "model.add(Dense(512, activation='relu', input_shape=(NUM_ROWS * NUM_COLS,)))\n",
        "model.add(Dense(256, activation='relu'))\n",
        "model.add(Dense(10, activation='softmax'))\n",
        "\n",
        "# Compile model\n",
        "model.compile(optimizer='rmsprop',\n",
        "              loss='categorical_crossentropy',\n",
        "              metrics=['accuracy'])\n",
        "\n",
        "# Train model\n",
        "model.fit(X_train, y_train,\n",
        "          batch_size=BATCH_SIZE,\n",
        "          epochs=EPOCHS,\n",
        "          verbose=1,\n",
        "          validation_data=(X_test, y_test))\n",
        "\n",
        "score = model.evaluate(X_test, y_test, verbose=0)\n",
        "print('Test loss:', score[0])\n",
        "print('Test accuracy:', score[1])\n",
        "-->"
      ]
    },
    {
      "cell_type": "code",
      "metadata": {
        "id": "g2qJdnXF0X8V",
        "colab_type": "code",
        "outputId": "298de43f-e01e-4767-f701-8f9171a44321",
        "colab": {
          "base_uri": "https://localhost:8080/",
          "height": 391
        }
      },
      "source": [
        "model = models.Sequential()\n",
        "model.add(Dense(512, activation='relu', input_shape=(NUM_ROWS * NUM_COLS,)))\n",
        "model.add(Dense(256, activation='relu'))\n",
        "model.add(Dense(10, activation='softmax'))\n",
        "\n",
        "# Compile model\n",
        "model.compile(optimizer='rmsprop',\n",
        "              loss='categorical_crossentropy',\n",
        "              metrics=['accuracy'])\n",
        "\n",
        "# Train model\n",
        "model.fit(X_train, y_train,\n",
        "          batch_size=BATCH_SIZE,\n",
        "          epochs=EPOCHS,\n",
        "          verbose=1,\n",
        "          validation_data=(X_test, y_test))\n",
        "\n",
        "score = model.evaluate(X_test, y_test, verbose=0)\n",
        "print('Test loss:', score[0])\n",
        "print('Test accuracy:', score[1])"
      ],
      "execution_count": 0,
      "outputs": [
        {
          "output_type": "stream",
          "text": [
            "Train on 60000 samples, validate on 10000 samples\n",
            "Epoch 1/10\n",
            "60000/60000 [==============================] - 7s 122us/step - loss: 0.2253 - acc: 0.9308 - val_loss: 0.1132 - val_acc: 0.9635\n",
            "Epoch 2/10\n",
            "60000/60000 [==============================] - 7s 114us/step - loss: 0.0853 - acc: 0.9740 - val_loss: 0.0729 - val_acc: 0.9772\n",
            "Epoch 3/10\n",
            "60000/60000 [==============================] - 7s 114us/step - loss: 0.0550 - acc: 0.9833 - val_loss: 0.0715 - val_acc: 0.9791\n",
            "Epoch 4/10\n",
            "60000/60000 [==============================] - 7s 114us/step - loss: 0.0406 - acc: 0.9873 - val_loss: 0.0719 - val_acc: 0.9810\n",
            "Epoch 5/10\n",
            "60000/60000 [==============================] - 7s 111us/step - loss: 0.0292 - acc: 0.9911 - val_loss: 0.0815 - val_acc: 0.9785\n",
            "Epoch 6/10\n",
            "60000/60000 [==============================] - 7s 113us/step - loss: 0.0232 - acc: 0.9928 - val_loss: 0.0729 - val_acc: 0.9816\n",
            "Epoch 7/10\n",
            "60000/60000 [==============================] - 7s 112us/step - loss: 0.0182 - acc: 0.9942 - val_loss: 0.0816 - val_acc: 0.9822\n",
            "Epoch 8/10\n",
            "60000/60000 [==============================] - 7s 113us/step - loss: 0.0146 - acc: 0.9954 - val_loss: 0.0979 - val_acc: 0.9793\n",
            "Epoch 9/10\n",
            "60000/60000 [==============================] - 7s 115us/step - loss: 0.0138 - acc: 0.9960 - val_loss: 0.0880 - val_acc: 0.9826\n",
            "Epoch 10/10\n",
            "60000/60000 [==============================] - 7s 114us/step - loss: 0.0105 - acc: 0.9966 - val_loss: 0.0957 - val_acc: 0.9811\n",
            "Test loss: 0.09571090894656323\n",
            "Test accuracy: 0.9811\n"
          ],
          "name": "stdout"
        }
      ]
    },
    {
      "cell_type": "markdown",
      "metadata": {
        "id": "_R1P-fE9mlkV",
        "colab_type": "text"
      },
      "source": [
        "#Output a summary of the neural network we built."
      ]
    },
    {
      "cell_type": "code",
      "metadata": {
        "id": "XF62Moggmnye",
        "colab_type": "code",
        "outputId": "20852902-9ba2-48f1-96d8-8f0d01b4c950",
        "colab": {
          "base_uri": "https://localhost:8080/",
          "height": 245
        }
      },
      "source": [
        "# Summary of neural network\n",
        "model.summary()"
      ],
      "execution_count": 0,
      "outputs": [
        {
          "output_type": "stream",
          "text": [
            "Model: \"sequential_6\"\n",
            "_________________________________________________________________\n",
            "Layer (type)                 Output Shape              Param #   \n",
            "=================================================================\n",
            "dense_10 (Dense)             (None, 512)               401920    \n",
            "_________________________________________________________________\n",
            "dense_11 (Dense)             (None, 256)               131328    \n",
            "_________________________________________________________________\n",
            "dense_12 (Dense)             (None, 10)                2570      \n",
            "=================================================================\n",
            "Total params: 535,818\n",
            "Trainable params: 535,818\n",
            "Non-trainable params: 0\n",
            "_________________________________________________________________\n"
          ],
          "name": "stdout"
        }
      ]
    },
    {
      "cell_type": "markdown",
      "metadata": {
        "id": "B3r9ODkFmqwX",
        "colab_type": "text"
      },
      "source": [
        "# Visualize the model:\n"
      ]
    },
    {
      "cell_type": "code",
      "metadata": {
        "id": "pF5PEZWPmtvf",
        "colab_type": "code",
        "outputId": "bd1aa6a9-ccba-4b3d-fa3c-1b2bf59bb283",
        "colab": {
          "base_uri": "https://localhost:8080/",
          "height": 490
        }
      },
      "source": [
        "# Output network visualization\n",
        "SVG(model_to_dot(model).create(prog='dot', format='svg'))"
      ],
      "execution_count": 0,
      "outputs": [
        {
          "output_type": "execute_result",
          "data": {
            "text/plain": [
              "<IPython.core.display.SVG object>"
            ],
            "image/svg+xml": "<svg height=\"352pt\" viewBox=\"0.00 0.00 188.00 264.00\" width=\"251pt\" xmlns=\"http://www.w3.org/2000/svg\" xmlns:xlink=\"http://www.w3.org/1999/xlink\">\n<g class=\"graph\" id=\"graph0\" transform=\"scale(1.3333 1.3333) rotate(0) translate(4 260)\">\n<title>G</title>\n<polygon fill=\"#ffffff\" points=\"-4,4 -4,-260 184,-260 184,4 -4,4\" stroke=\"transparent\"/>\n<!-- 140253091951280 -->\n<g class=\"node\" id=\"node1\">\n<title>140253091951280</title>\n<polygon fill=\"none\" points=\"0,-219.5 0,-255.5 180,-255.5 180,-219.5 0,-219.5\" stroke=\"#000000\"/>\n<text fill=\"#000000\" font-family=\"Times,serif\" font-size=\"14.00\" text-anchor=\"middle\" x=\"90\" y=\"-233.8\">dense_10_input: InputLayer</text>\n</g>\n<!-- 140253091950832 -->\n<g class=\"node\" id=\"node2\">\n<title>140253091950832</title>\n<polygon fill=\"none\" points=\"33,-146.5 33,-182.5 147,-182.5 147,-146.5 33,-146.5\" stroke=\"#000000\"/>\n<text fill=\"#000000\" font-family=\"Times,serif\" font-size=\"14.00\" text-anchor=\"middle\" x=\"90\" y=\"-160.8\">dense_10: Dense</text>\n</g>\n<!-- 140253091951280&#45;&gt;140253091950832 -->\n<g class=\"edge\" id=\"edge1\">\n<title>140253091951280-&gt;140253091950832</title>\n<path d=\"M90,-219.4551C90,-211.3828 90,-201.6764 90,-192.6817\" fill=\"none\" stroke=\"#000000\"/>\n<polygon fill=\"#000000\" points=\"93.5001,-192.5903 90,-182.5904 86.5001,-192.5904 93.5001,-192.5903\" stroke=\"#000000\"/>\n</g>\n<!-- 140253093060448 -->\n<g class=\"node\" id=\"node3\">\n<title>140253093060448</title>\n<polygon fill=\"none\" points=\"33.5,-73.5 33.5,-109.5 146.5,-109.5 146.5,-73.5 33.5,-73.5\" stroke=\"#000000\"/>\n<text fill=\"#000000\" font-family=\"Times,serif\" font-size=\"14.00\" text-anchor=\"middle\" x=\"90\" y=\"-87.8\">dense_11: Dense</text>\n</g>\n<!-- 140253091950832&#45;&gt;140253093060448 -->\n<g class=\"edge\" id=\"edge2\">\n<title>140253091950832-&gt;140253093060448</title>\n<path d=\"M90,-146.4551C90,-138.3828 90,-128.6764 90,-119.6817\" fill=\"none\" stroke=\"#000000\"/>\n<polygon fill=\"#000000\" points=\"93.5001,-119.5903 90,-109.5904 86.5001,-119.5904 93.5001,-119.5903\" stroke=\"#000000\"/>\n</g>\n<!-- 140253309274152 -->\n<g class=\"node\" id=\"node4\">\n<title>140253309274152</title>\n<polygon fill=\"none\" points=\"33,-.5 33,-36.5 147,-36.5 147,-.5 33,-.5\" stroke=\"#000000\"/>\n<text fill=\"#000000\" font-family=\"Times,serif\" font-size=\"14.00\" text-anchor=\"middle\" x=\"90\" y=\"-14.8\">dense_12: Dense</text>\n</g>\n<!-- 140253093060448&#45;&gt;140253309274152 -->\n<g class=\"edge\" id=\"edge3\">\n<title>140253093060448-&gt;140253309274152</title>\n<path d=\"M90,-73.4551C90,-65.3828 90,-55.6764 90,-46.6817\" fill=\"none\" stroke=\"#000000\"/>\n<polygon fill=\"#000000\" points=\"93.5001,-46.5903 90,-36.5904 86.5001,-46.5904 93.5001,-46.5903\" stroke=\"#000000\"/>\n</g>\n</g>\n</svg>"
          },
          "metadata": {
            "tags": []
          },
          "execution_count": 29
        }
      ]
    },
    {
      "cell_type": "markdown",
      "metadata": {
        "id": "-XeWXc0ft6fO",
        "colab_type": "text"
      },
      "source": [
        "#Exercise: Train a Sequential Neural network on CIFAR10 dataset"
      ]
    },
    {
      "cell_type": "code",
      "metadata": {
        "id": "tPWjNVe9uCnw",
        "colab_type": "code",
        "colab": {}
      },
      "source": [
        "#import packages\n",
        "from keras.datasets import cifar10\n",
        "from keras.models import Sequential\n",
        "from keras.layers import Dense, Dropout, Activation, Flatten\n",
        "from keras.utils import to_categorical\n"
      ],
      "execution_count": 0,
      "outputs": []
    },
    {
      "cell_type": "code",
      "metadata": {
        "id": "pjXMCDsxuHAc",
        "colab_type": "code",
        "outputId": "f7bd65a5-3c24-4849-8c5f-5f26565bd37a",
        "colab": {
          "base_uri": "https://localhost:8080/",
          "height": 50
        }
      },
      "source": [
        "#import dataset\n",
        "(X_train, y_train), (X_test, y_test) = cifar10.load_data()\n",
        "\n",
        "#change shape from image to vector\n",
        "X_train = X_train.reshape(50000, 32 * 32 * 3)\n",
        "X_test = X_test.reshape(10000, 32 * 32 * 3)\n",
        "\n",
        "#preprocess\n",
        "X_train = X_train.astype('float32')\n",
        "X_test = X_test.astype('float32')\n",
        "X_train /= 255.0\n",
        "X_test /= 255.0\n",
        "\n",
        "#change labels from numeric to one hot encoded\n",
        "Y_train = to_categorical(y_train, 10)\n",
        "Y_test =  to_categorical(y_test, 10)"
      ],
      "execution_count": 0,
      "outputs": [
        {
          "output_type": "stream",
          "text": [
            "Downloading data from https://www.cs.toronto.edu/~kriz/cifar-10-python.tar.gz\n",
            "170500096/170498071 [==============================] - 2s 0us/step\n"
          ],
          "name": "stdout"
        }
      ]
    },
    {
      "cell_type": "markdown",
      "metadata": {
        "id": "0SV6PPCHu6iy",
        "colab_type": "text"
      },
      "source": [
        "# Build sequential model \n",
        "\n",
        "\n",
        "\n",
        "1.   Sequential model with four layers having 1024,512,512,10 nodes respectively\n",
        "2.   Input shape = 3072\n",
        "3.   Activation of first three layers is relu and final is softmax\n",
        "4.   Compile model using loss='categorical_crossentropy', optimizer='adam' and metrics=['accuracy']\n",
        "5. Train model\n",
        "\n"
      ]
    },
    {
      "cell_type": "markdown",
      "metadata": {
        "id": "t51-PrDOvK0R",
        "colab_type": "text"
      },
      "source": [
        "Double-click <b>here</b> for the solution.\n",
        "\n",
        "<!--\n",
        "model = Sequential()\n",
        "model.add(Dense(1024, input_shape=(3072, )))\n",
        "model.add(Activation('relu'))\n",
        "model.add(Dense(512))\n",
        "model.add(Activation('relu'))\n",
        "model.add(Dense(512))\n",
        "model.add(Activation('relu'))\n",
        "model.add(Dense(10))\n",
        "model.add(Activation('softmax'))\n",
        "\n",
        "model.compile(loss='categorical_crossentropy',\n",
        "                  optimizer='adam',\n",
        "                  metrics=['accuracy'])\n",
        "    \n",
        " \n",
        "\n",
        "# training\n",
        "history = model.fit(X_train, Y_train,\n",
        "                        batch_size=128,\n",
        "                        nb_epoch=10,\n",
        "                        verbose=1,\n",
        "                        validation_data=(X_test, Y_test))\n",
        "-->"
      ]
    },
    {
      "cell_type": "code",
      "metadata": {
        "id": "gxAE5ryN6cAz",
        "colab_type": "code",
        "outputId": "128e2bbf-4569-4aae-f867-768028b4afc4",
        "colab": {
          "base_uri": "https://localhost:8080/",
          "height": 375
        }
      },
      "source": [
        "model = Sequential()\n",
        "model.add(Dense(1024, input_shape=(3072, )))\n",
        "model.add(Activation('relu'))\n",
        "model.add(Dense(512))\n",
        "model.add(Activation('relu'))\n",
        "model.add(Dense(512))\n",
        "model.add(Activation('relu'))\n",
        "model.add(Dense(10))\n",
        "model.add(Activation('softmax'))\n",
        "\n",
        "model.compile(loss='categorical_crossentropy',\n",
        "                  optimizer='adam',\n",
        "                  metrics=['accuracy'])\n",
        "    \n",
        " \n",
        "\n",
        "# training\n",
        "history = model.fit(X_train, Y_train,\n",
        "                        batch_size=128,\n",
        "                        nb_epoch=10,\n",
        "                        verbose=1,\n",
        "                        validation_data=(X_test, Y_test))"
      ],
      "execution_count": 0,
      "outputs": [
        {
          "output_type": "stream",
          "text": [
            "/usr/local/lib/python3.6/dist-packages/ipykernel_launcher.py:22: UserWarning: The `nb_epoch` argument in `fit` has been renamed `epochs`.\n"
          ],
          "name": "stderr"
        },
        {
          "output_type": "stream",
          "text": [
            "Train on 50000 samples, validate on 10000 samples\n",
            "Epoch 1/10\n",
            "50000/50000 [==============================] - 39s 772us/step - loss: 1.8793 - acc: 0.3212 - val_loss: 1.7007 - val_acc: 0.3913\n",
            "Epoch 2/10\n",
            "50000/50000 [==============================] - 38s 766us/step - loss: 1.6558 - acc: 0.4067 - val_loss: 1.5788 - val_acc: 0.4394\n",
            "Epoch 3/10\n",
            "50000/50000 [==============================] - 39s 782us/step - loss: 1.5598 - acc: 0.4409 - val_loss: 1.5828 - val_acc: 0.4341\n",
            "Epoch 4/10\n",
            "50000/50000 [==============================] - 38s 764us/step - loss: 1.5014 - acc: 0.4622 - val_loss: 1.4981 - val_acc: 0.4658\n",
            "Epoch 5/10\n",
            "50000/50000 [==============================] - 38s 766us/step - loss: 1.4608 - acc: 0.4796 - val_loss: 1.4535 - val_acc: 0.4803\n",
            "Epoch 6/10\n",
            "50000/50000 [==============================] - 37s 748us/step - loss: 1.4178 - acc: 0.4925 - val_loss: 1.4365 - val_acc: 0.4878\n",
            "Epoch 7/10\n",
            "50000/50000 [==============================] - 37s 742us/step - loss: 1.3792 - acc: 0.5059 - val_loss: 1.4433 - val_acc: 0.4849\n",
            "Epoch 8/10\n",
            "50000/50000 [==============================] - 37s 736us/step - loss: 1.3436 - acc: 0.5183 - val_loss: 1.4098 - val_acc: 0.5016\n",
            "Epoch 9/10\n",
            "50000/50000 [==============================] - 37s 732us/step - loss: 1.3101 - acc: 0.5307 - val_loss: 1.4025 - val_acc: 0.4964\n",
            "Epoch 10/10\n",
            "50000/50000 [==============================] - 38s 766us/step - loss: 1.2695 - acc: 0.5439 - val_loss: 1.4129 - val_acc: 0.5053\n"
          ],
          "name": "stdout"
        }
      ]
    },
    {
      "cell_type": "markdown",
      "metadata": {
        "id": "c81PL1bVxZRZ",
        "colab_type": "text"
      },
      "source": [
        "# Plot accuracy and loss after model is trained. \n",
        "\n",
        "(Caution: Will not work unless previous step is performed)"
      ]
    },
    {
      "cell_type": "code",
      "metadata": {
        "id": "ptYUQKCWwTUf",
        "colab_type": "code",
        "outputId": "dd3f5926-0625-43fd-b3b7-b99d0bc58c55",
        "colab": {
          "base_uri": "https://localhost:8080/",
          "height": 572
        }
      },
      "source": [
        "import matplotlib.pyplot as plt\n",
        "# Plot training & validation accuracy values\n",
        "plt.plot(history.history['acc'])\n",
        "plt.plot(history.history['val_acc'])\n",
        "plt.title('Model accuracy')\n",
        "plt.ylabel('Accuracy')\n",
        "plt.xlabel('Epoch')\n",
        "plt.legend(['Train', 'Test'], loc='upper left')\n",
        "plt.show()\n",
        "\n",
        "# Plot training & validation loss values\n",
        "plt.plot(history.history['loss'])\n",
        "plt.plot(history.history['val_loss'])\n",
        "plt.title('Model loss')\n",
        "plt.ylabel('Loss')\n",
        "plt.xlabel('Epoch')\n",
        "plt.legend(['Train', 'Test'], loc='upper left')\n",
        "plt.show()"
      ],
      "execution_count": 0,
      "outputs": [
        {
          "output_type": "display_data",
          "data": {
            "image/png": "[encoded data removed]",
            "text/plain": [
              "<Figure size 432x288 with 1 Axes>"
            ]
          },
          "metadata": {
            "tags": []
          }
        },
        {
          "output_type": "display_data",
          "data": {
            "image/png": "[encoded data removed]",
            "text/plain": [
              "<Figure size 432x288 with 1 Axes>"
            ]
          },
          "metadata": {
            "tags": []
          }
        }
      ]
    },
    {
      "cell_type": "markdown",
      "metadata": {
        "id": "U1JOX52A01Dc",
        "colab_type": "text"
      },
      "source": [
        "# Improving accuracy on Iris dataset\n",
        "\n",
        "\n",
        "\n",
        "1.   Find the accuracy of the below model\n",
        "2.   Improve accuracy by increasing layers, epochs, optimizer or loss metrics\n",
        "\n"
      ]
    },
    {
      "cell_type": "code",
      "metadata": {
        "id": "PN6DlpbYytgU",
        "colab_type": "code",
        "outputId": "8a852997-be5f-4443-a6c6-c7af2f983150",
        "colab": {
          "base_uri": "https://localhost:8080/",
          "height": 1000
        }
      },
      "source": [
        "import pandas\n",
        "from keras.models import Sequential\n",
        "from keras.layers import Dense\n",
        "from keras.wrappers.scikit_learn import KerasClassifier\n",
        "from keras.utils import np_utils\n",
        "from sklearn.model_selection import cross_val_score\n",
        "from sklearn.model_selection import KFold\n",
        "from sklearn.preprocessing import LabelEncoder\n",
        "from sklearn.pipeline import Pipeline\n",
        "from sklearn.datasets import load_iris\n",
        "from sklearn.model_selection import train_test_split\n",
        "from sklearn.preprocessing import OneHotEncoder\n",
        "from keras.optimizers import Adam\n",
        "\n",
        "iris_data = load_iris()\n",
        "\t\n",
        "x = iris_data.data\n",
        "y_ = iris_data.target.reshape(-1, 1) # Convert data to a single column\n",
        "\n",
        "# One Hot encode the class labels\n",
        "encoder = OneHotEncoder(sparse=False)\n",
        "y = encoder.fit_transform(y_)\n",
        "\n",
        "\n",
        "# Split the data for training and testing\n",
        "train_x, test_x, train_y, test_y = train_test_split(x, y, test_size=0.01)\n",
        "\n",
        "\n",
        "model = Sequential()\n",
        "\n",
        "model.add(Dense(10, input_shape=(4,), activation='relu'))\n",
        "model.add(Dense(10, activation='relu'))\n",
        "model.add(Dense(3, activation='softmax'))\n",
        "\n",
        "# Compile\n",
        "model.compile(optimizer='adam', loss='categorical_crossentropy', metrics=['accuracy'])\n",
        "\n",
        "# Train the model\n",
        "model.fit(train_x, train_y, verbose=2, batch_size=5, epochs=200)\n",
        "\n",
        "# Test on unseen data\n",
        "\n",
        "results = model.evaluate(test_x, test_y)\n",
        "\n",
        "print('Final test set loss: {:4f}'.format(results[0]))\n",
        "print('Final test set accuracy: {:4f}'.format(results[1]))\n"
      ],
      "execution_count": 0,
      "outputs": [
        {
          "output_type": "stream",
          "text": [
            "Epoch 1/200\n",
            " - 0s - loss: 1.3929 - acc: 0.0000e+00\n",
            "Epoch 2/200\n",
            " - 0s - loss: 1.2004 - acc: 0.1824\n",
            "Epoch 3/200\n",
            " - 0s - loss: 1.1116 - acc: 0.4932\n",
            "Epoch 4/200\n",
            " - 0s - loss: 1.0565 - acc: 0.6351\n",
            "Epoch 5/200\n",
            " - 0s - loss: 1.0168 - acc: 0.6554\n",
            "Epoch 6/200\n",
            " - 0s - loss: 0.9734 - acc: 0.6689\n",
            "Epoch 7/200\n",
            " - 0s - loss: 0.9232 - acc: 0.6622\n",
            "Epoch 8/200\n",
            " - 0s - loss: 0.8733 - acc: 0.6351\n",
            "Epoch 9/200\n",
            " - 0s - loss: 0.8180 - acc: 0.6689\n",
            "Epoch 10/200\n",
            " - 0s - loss: 0.7640 - acc: 0.6959\n",
            "Epoch 11/200\n",
            " - 0s - loss: 0.7129 - acc: 0.6554\n",
            "Epoch 12/200\n",
            " - 0s - loss: 0.6709 - acc: 0.6554\n",
            "Epoch 13/200\n",
            " - 0s - loss: 0.6232 - acc: 0.7838\n",
            "Epoch 14/200\n",
            " - 0s - loss: 0.5847 - acc: 0.8716\n",
            "Epoch 15/200\n",
            " - 0s - loss: 0.5518 - acc: 0.8649\n",
            "Epoch 16/200\n",
            " - 0s - loss: 0.5235 - acc: 0.8784\n",
            "Epoch 17/200\n",
            " - 0s - loss: 0.4952 - acc: 0.9189\n",
            "Epoch 18/200\n",
            " - 0s - loss: 0.4692 - acc: 0.9595\n",
            "Epoch 19/200\n",
            " - 0s - loss: 0.4500 - acc: 0.9257\n",
            "Epoch 20/200\n",
            " - 0s - loss: 0.4262 - acc: 0.9595\n",
            "Epoch 21/200\n",
            " - 0s - loss: 0.4059 - acc: 0.9459\n",
            "Epoch 22/200\n",
            " - 0s - loss: 0.3853 - acc: 0.9527\n",
            "Epoch 23/200\n",
            " - 0s - loss: 0.3660 - acc: 0.9730\n",
            "Epoch 24/200\n",
            " - 0s - loss: 0.3474 - acc: 0.9797\n",
            "Epoch 25/200\n",
            " - 0s - loss: 0.3372 - acc: 0.9527\n",
            "Epoch 26/200\n",
            " - 0s - loss: 0.3151 - acc: 0.9730\n",
            "Epoch 27/200\n",
            " - 0s - loss: 0.3026 - acc: 0.9730\n",
            "Epoch 28/200\n",
            " - 0s - loss: 0.2877 - acc: 0.9730\n",
            "Epoch 29/200\n",
            " - 0s - loss: 0.2720 - acc: 0.9730\n",
            "Epoch 30/200\n",
            " - 0s - loss: 0.2591 - acc: 0.9730\n",
            "Epoch 31/200\n",
            " - 0s - loss: 0.2495 - acc: 0.9730\n",
            "Epoch 32/200\n",
            " - 0s - loss: 0.2360 - acc: 0.9662\n",
            "Epoch 33/200\n",
            " - 0s - loss: 0.2271 - acc: 0.9662\n",
            "Epoch 34/200\n",
            " - 0s - loss: 0.2182 - acc: 0.9730\n",
            "Epoch 35/200\n",
            " - 0s - loss: 0.2085 - acc: 0.9527\n",
            "Epoch 36/200\n",
            " - 0s - loss: 0.1984 - acc: 0.9797\n",
            "Epoch 37/200\n",
            " - 0s - loss: 0.1933 - acc: 0.9797\n",
            "Epoch 38/200\n",
            " - 0s - loss: 0.1859 - acc: 0.9595\n",
            "Epoch 39/200\n",
            " - 0s - loss: 0.1871 - acc: 0.9595\n",
            "Epoch 40/200\n",
            " - 0s - loss: 0.1751 - acc: 0.9797\n",
            "Epoch 41/200\n",
            " - 0s - loss: 0.1677 - acc: 0.9730\n",
            "Epoch 42/200\n",
            " - 0s - loss: 0.1624 - acc: 0.9797\n",
            "Epoch 43/200\n",
            " - 0s - loss: 0.1597 - acc: 0.9662\n",
            "Epoch 44/200\n",
            " - 0s - loss: 0.1573 - acc: 0.9662\n",
            "Epoch 45/200\n",
            " - 0s - loss: 0.1501 - acc: 0.9730\n",
            "Epoch 46/200\n",
            " - 0s - loss: 0.1476 - acc: 0.9595\n",
            "Epoch 47/200\n",
            " - 0s - loss: 0.1390 - acc: 0.9797\n",
            "Epoch 48/200\n",
            " - 0s - loss: 0.1363 - acc: 0.9730\n",
            "Epoch 49/200\n",
            " - 0s - loss: 0.1346 - acc: 0.9662\n",
            "Epoch 50/200\n",
            " - 0s - loss: 0.1317 - acc: 0.9662\n",
            "Epoch 51/200\n",
            " - 0s - loss: 0.1321 - acc: 0.9730\n",
            "Epoch 52/200\n",
            " - 0s - loss: 0.1236 - acc: 0.9797\n",
            "Epoch 53/200\n",
            " - 0s - loss: 0.1215 - acc: 0.9797\n",
            "Epoch 54/200\n",
            " - 0s - loss: 0.1193 - acc: 0.9730\n",
            "Epoch 55/200\n",
            " - 0s - loss: 0.1196 - acc: 0.9595\n",
            "Epoch 56/200\n",
            " - 0s - loss: 0.1168 - acc: 0.9730\n",
            "Epoch 57/200\n",
            " - 0s - loss: 0.1133 - acc: 0.9797\n",
            "Epoch 58/200\n",
            " - 0s - loss: 0.1210 - acc: 0.9595\n",
            "Epoch 59/200\n",
            " - 0s - loss: 0.1076 - acc: 0.9797\n",
            "Epoch 60/200\n",
            " - 0s - loss: 0.1163 - acc: 0.9595\n",
            "Epoch 61/200\n",
            " - 0s - loss: 0.1114 - acc: 0.9730\n",
            "Epoch 62/200\n",
            " - 0s - loss: 0.1082 - acc: 0.9527\n",
            "Epoch 63/200\n",
            " - 0s - loss: 0.1076 - acc: 0.9797\n",
            "Epoch 64/200\n",
            " - 0s - loss: 0.1028 - acc: 0.9662\n",
            "Epoch 65/200\n",
            " - 0s - loss: 0.1032 - acc: 0.9730\n",
            "Epoch 66/200\n",
            " - 0s - loss: 0.1070 - acc: 0.9730\n",
            "Epoch 67/200\n",
            " - 0s - loss: 0.0981 - acc: 0.9797\n",
            "Epoch 68/200\n",
            " - 0s - loss: 0.0999 - acc: 0.9662\n",
            "Epoch 69/200\n",
            " - 0s - loss: 0.0972 - acc: 0.9797\n",
            "Epoch 70/200\n",
            " - 0s - loss: 0.0958 - acc: 0.9730\n",
            "Epoch 71/200\n",
            " - 0s - loss: 0.0949 - acc: 0.9797\n",
            "Epoch 72/200\n",
            " - 0s - loss: 0.0952 - acc: 0.9662\n",
            "Epoch 73/200\n",
            " - 0s - loss: 0.0918 - acc: 0.9797\n",
            "Epoch 74/200\n",
            " - 0s - loss: 0.0905 - acc: 0.9730\n",
            "Epoch 75/200\n",
            " - 0s - loss: 0.0931 - acc: 0.9662\n",
            "Epoch 76/200\n",
            " - 0s - loss: 0.0903 - acc: 0.9662\n",
            "Epoch 77/200\n",
            " - 0s - loss: 0.0890 - acc: 0.9662\n",
            "Epoch 78/200\n",
            " - 0s - loss: 0.0917 - acc: 0.9730\n",
            "Epoch 79/200\n",
            " - 0s - loss: 0.0898 - acc: 0.9730\n",
            "Epoch 80/200\n",
            " - 0s - loss: 0.0985 - acc: 0.9459\n",
            "Epoch 81/200\n",
            " - 0s - loss: 0.0851 - acc: 0.9730\n",
            "Epoch 82/200\n",
            " - 0s - loss: 0.0873 - acc: 0.9730\n",
            "Epoch 83/200\n",
            " - 0s - loss: 0.0864 - acc: 0.9797\n",
            "Epoch 84/200\n",
            " - 0s - loss: 0.0929 - acc: 0.9527\n",
            "Epoch 85/200\n",
            " - 0s - loss: 0.0912 - acc: 0.9662\n",
            "Epoch 86/200\n",
            " - 0s - loss: 0.0872 - acc: 0.9662\n",
            "Epoch 87/200\n",
            " - 0s - loss: 0.0861 - acc: 0.9730\n",
            "Epoch 88/200\n",
            " - 0s - loss: 0.0829 - acc: 0.9730\n",
            "Epoch 89/200\n",
            " - 0s - loss: 0.0845 - acc: 0.9797\n",
            "Epoch 90/200\n",
            " - 0s - loss: 0.0913 - acc: 0.9662\n",
            "Epoch 91/200\n",
            " - 0s - loss: 0.0874 - acc: 0.9595\n",
            "Epoch 92/200\n",
            " - 0s - loss: 0.0804 - acc: 0.9797\n",
            "Epoch 93/200\n",
            " - 0s - loss: 0.0855 - acc: 0.9662\n",
            "Epoch 94/200\n",
            " - 0s - loss: 0.0838 - acc: 0.9730\n",
            "Epoch 95/200\n",
            " - 0s - loss: 0.0789 - acc: 0.9662\n",
            "Epoch 96/200\n",
            " - 0s - loss: 0.0883 - acc: 0.9662\n",
            "Epoch 97/200\n",
            " - 0s - loss: 0.0850 - acc: 0.9730\n",
            "Epoch 98/200\n",
            " - 0s - loss: 0.0843 - acc: 0.9595\n",
            "Epoch 99/200\n",
            " - 0s - loss: 0.0806 - acc: 0.9730\n",
            "Epoch 100/200\n",
            " - 0s - loss: 0.0774 - acc: 0.9730\n",
            "Epoch 101/200\n",
            " - 0s - loss: 0.0786 - acc: 0.9730\n",
            "Epoch 102/200\n",
            " - 0s - loss: 0.0792 - acc: 0.9662\n",
            "Epoch 103/200\n",
            " - 0s - loss: 0.0784 - acc: 0.9730\n",
            "Epoch 104/200\n",
            " - 0s - loss: 0.0761 - acc: 0.9730\n",
            "Epoch 105/200\n",
            " - 0s - loss: 0.0755 - acc: 0.9730\n",
            "Epoch 106/200\n",
            " - 0s - loss: 0.0761 - acc: 0.9662\n",
            "Epoch 107/200\n",
            " - 0s - loss: 0.0784 - acc: 0.9730\n",
            "Epoch 108/200\n",
            " - 0s - loss: 0.0769 - acc: 0.9662\n",
            "Epoch 109/200\n",
            " - 0s - loss: 0.0743 - acc: 0.9662\n",
            "Epoch 110/200\n",
            " - 0s - loss: 0.0786 - acc: 0.9797\n",
            "Epoch 111/200\n",
            " - 0s - loss: 0.0769 - acc: 0.9662\n",
            "Epoch 112/200\n",
            " - 0s - loss: 0.0750 - acc: 0.9662\n",
            "Epoch 113/200\n",
            " - 0s - loss: 0.0734 - acc: 0.9730\n",
            "Epoch 114/200\n",
            " - 0s - loss: 0.0752 - acc: 0.9797\n",
            "Epoch 115/200\n",
            " - 0s - loss: 0.0739 - acc: 0.9797\n",
            "Epoch 116/200\n",
            " - 0s - loss: 0.0722 - acc: 0.9797\n",
            "Epoch 117/200\n",
            " - 0s - loss: 0.0728 - acc: 0.9730\n",
            "Epoch 118/200\n",
            " - 0s - loss: 0.0729 - acc: 0.9730\n",
            "Epoch 119/200\n",
            " - 0s - loss: 0.0716 - acc: 0.9797\n",
            "Epoch 120/200\n",
            " - 0s - loss: 0.0767 - acc: 0.9662\n",
            "Epoch 121/200\n",
            " - 0s - loss: 0.0720 - acc: 0.9797\n",
            "Epoch 122/200\n",
            " - 0s - loss: 0.0773 - acc: 0.9527\n",
            "Epoch 123/200\n",
            " - 0s - loss: 0.0728 - acc: 0.9797\n",
            "Epoch 124/200\n",
            " - 0s - loss: 0.0713 - acc: 0.9797\n",
            "Epoch 125/200\n",
            " - 0s - loss: 0.0716 - acc: 0.9662\n",
            "Epoch 126/200\n",
            " - 0s - loss: 0.0729 - acc: 0.9662\n",
            "Epoch 127/200\n",
            " - 0s - loss: 0.0737 - acc: 0.9662\n",
            "Epoch 128/200\n",
            " - 0s - loss: 0.0806 - acc: 0.9662\n",
            "Epoch 129/200\n",
            " - 0s - loss: 0.0709 - acc: 0.9730\n",
            "Epoch 130/200\n",
            " - 0s - loss: 0.0815 - acc: 0.9730\n",
            "Epoch 131/200\n",
            " - 0s - loss: 0.0756 - acc: 0.9730\n",
            "Epoch 132/200\n",
            " - 0s - loss: 0.0700 - acc: 0.9730\n",
            "Epoch 133/200\n",
            " - 0s - loss: 0.0704 - acc: 0.9730\n",
            "Epoch 134/200\n",
            " - 0s - loss: 0.0701 - acc: 0.9730\n",
            "Epoch 135/200\n",
            " - 0s - loss: 0.0704 - acc: 0.9797\n",
            "Epoch 136/200\n",
            " - 0s - loss: 0.0691 - acc: 0.9662\n",
            "Epoch 137/200\n",
            " - 0s - loss: 0.0696 - acc: 0.9730\n",
            "Epoch 138/200\n",
            " - 0s - loss: 0.0727 - acc: 0.9662\n",
            "Epoch 139/200\n",
            " - 0s - loss: 0.0701 - acc: 0.9662\n",
            "Epoch 140/200\n",
            " - 0s - loss: 0.0692 - acc: 0.9662\n",
            "Epoch 141/200\n",
            " - 0s - loss: 0.0728 - acc: 0.9662\n",
            "Epoch 142/200\n",
            " - 0s - loss: 0.0692 - acc: 0.9730\n",
            "Epoch 143/200\n",
            " - 0s - loss: 0.0725 - acc: 0.9797\n",
            "Epoch 144/200\n",
            " - 0s - loss: 0.0726 - acc: 0.9662\n",
            "Epoch 145/200\n",
            " - 0s - loss: 0.0720 - acc: 0.9527\n",
            "Epoch 146/200\n",
            " - 0s - loss: 0.0672 - acc: 0.9730\n",
            "Epoch 147/200\n",
            " - 0s - loss: 0.0708 - acc: 0.9730\n",
            "Epoch 148/200\n",
            " - 0s - loss: 0.0708 - acc: 0.9662\n",
            "Epoch 149/200\n",
            " - 0s - loss: 0.0697 - acc: 0.9730\n",
            "Epoch 150/200\n",
            " - 0s - loss: 0.0664 - acc: 0.9730\n",
            "Epoch 151/200\n",
            " - 0s - loss: 0.0662 - acc: 0.9730\n",
            "Epoch 152/200\n",
            " - 0s - loss: 0.0684 - acc: 0.9730\n",
            "Epoch 153/200\n",
            " - 0s - loss: 0.0689 - acc: 0.9730\n",
            "Epoch 154/200\n",
            " - 0s - loss: 0.0685 - acc: 0.9662\n",
            "Epoch 155/200\n",
            " - 0s - loss: 0.0683 - acc: 0.9797\n",
            "Epoch 156/200\n",
            " - 0s - loss: 0.0678 - acc: 0.9730\n",
            "Epoch 157/200\n",
            " - 0s - loss: 0.0686 - acc: 0.9730\n",
            "Epoch 158/200\n",
            " - 0s - loss: 0.0681 - acc: 0.9730\n",
            "Epoch 159/200\n",
            " - 0s - loss: 0.0666 - acc: 0.9730\n",
            "Epoch 160/200\n",
            " - 0s - loss: 0.0688 - acc: 0.9730\n",
            "Epoch 161/200\n",
            " - 0s - loss: 0.0685 - acc: 0.9730\n",
            "Epoch 162/200\n",
            " - 0s - loss: 0.0655 - acc: 0.9662\n",
            "Epoch 163/200\n",
            " - 0s - loss: 0.0728 - acc: 0.9662\n",
            "Epoch 164/200\n",
            " - 0s - loss: 0.0716 - acc: 0.9730\n",
            "Epoch 165/200\n",
            " - 0s - loss: 0.0688 - acc: 0.9662\n",
            "Epoch 166/200\n",
            " - 0s - loss: 0.0724 - acc: 0.9662\n",
            "Epoch 167/200\n",
            " - 0s - loss: 0.0647 - acc: 0.9797\n",
            "Epoch 168/200\n",
            " - 0s - loss: 0.0665 - acc: 0.9797\n",
            "Epoch 169/200\n",
            " - 0s - loss: 0.0668 - acc: 0.9730\n",
            "Epoch 170/200\n",
            " - 0s - loss: 0.0645 - acc: 0.9730\n",
            "Epoch 171/200\n",
            " - 0s - loss: 0.0671 - acc: 0.9730\n",
            "Epoch 172/200\n",
            " - 0s - loss: 0.0657 - acc: 0.9730\n",
            "Epoch 173/200\n",
            " - 0s - loss: 0.0650 - acc: 0.9797\n",
            "Epoch 174/200\n",
            " - 0s - loss: 0.0647 - acc: 0.9730\n",
            "Epoch 175/200\n",
            " - 0s - loss: 0.0660 - acc: 0.9730\n",
            "Epoch 176/200\n",
            " - 0s - loss: 0.0654 - acc: 0.9730\n",
            "Epoch 177/200\n",
            " - 0s - loss: 0.0712 - acc: 0.9662\n",
            "Epoch 178/200\n",
            " - 0s - loss: 0.0658 - acc: 0.9730\n",
            "Epoch 179/200\n",
            " - 0s - loss: 0.0645 - acc: 0.9730\n",
            "Epoch 180/200\n",
            " - 0s - loss: 0.0640 - acc: 0.9730\n",
            "Epoch 181/200\n",
            " - 0s - loss: 0.0750 - acc: 0.9662\n",
            "Epoch 182/200\n",
            " - 0s - loss: 0.0712 - acc: 0.9662\n",
            "Epoch 183/200\n",
            " - 0s - loss: 0.0632 - acc: 0.9730\n",
            "Epoch 184/200\n",
            " - 0s - loss: 0.0648 - acc: 0.9730\n",
            "Epoch 185/200\n",
            " - 0s - loss: 0.0674 - acc: 0.9730\n",
            "Epoch 186/200\n",
            " - 0s - loss: 0.0642 - acc: 0.9730\n",
            "Epoch 187/200\n",
            " - 0s - loss: 0.0641 - acc: 0.9730\n",
            "Epoch 188/200\n",
            " - 0s - loss: 0.0624 - acc: 0.9797\n",
            "Epoch 189/200\n",
            " - 0s - loss: 0.0652 - acc: 0.9730\n",
            "Epoch 190/200\n",
            " - 0s - loss: 0.0670 - acc: 0.9730\n",
            "Epoch 191/200\n",
            " - 0s - loss: 0.0645 - acc: 0.9865\n",
            "Epoch 192/200\n",
            " - 0s - loss: 0.0660 - acc: 0.9797\n",
            "Epoch 193/200\n",
            " - 0s - loss: 0.0632 - acc: 0.9730\n",
            "Epoch 194/200\n",
            " - 0s - loss: 0.0628 - acc: 0.9730\n",
            "Epoch 195/200\n",
            " - 0s - loss: 0.0630 - acc: 0.9797\n",
            "Epoch 196/200\n",
            " - 0s - loss: 0.0628 - acc: 0.9797\n",
            "Epoch 197/200\n",
            " - 0s - loss: 0.0628 - acc: 0.9730\n",
            "Epoch 198/200\n",
            " - 0s - loss: 0.0660 - acc: 0.9730\n",
            "Epoch 199/200\n",
            " - 0s - loss: 0.0618 - acc: 0.9730\n",
            "Epoch 200/200\n",
            " - 0s - loss: 0.0634 - acc: 0.9797\n",
            "2/2 [==============================] - 0s 66ms/step\n",
            "Final test set loss: 0.002770\n",
            "Final test set accuracy: 1.000000\n"
          ],
          "name": "stdout"
        }
      ]
    },
    {
      "cell_type": "markdown",
      "metadata": {
        "id": "-rkZZKV4yV9U",
        "colab_type": "text"
      },
      "source": [
        "#Thank you for completing this notebook.\n",
        "\n"
      ]
    },
    {
      "cell_type": "markdown",
      "metadata": {
        "id": "kl-88q4Mu-OH",
        "colab_type": "text"
      },
      "source": [
        "\n",
        "<!--\n",
        "    model = Sequential()\n",
        "    model.add(Dense(1024, input_shape=(3072, )))\n",
        "    model.add(Activation('relu'))\n",
        "    model.add(Dropout(0.2))\n",
        "    model.add(Dense(512))\n",
        "    model.add(Activation('relu'))\n",
        "    model.add(Dropout(0.2))\n",
        "    model.add(Dense(512))\n",
        "    model.add(Activation('relu'))\n",
        "    model.add(Dropout(0.2))\n",
        "    model.add(Dense(10))\n",
        "    model.add(Activation('softmax'))\n",
        "\n",
        "    model.compile(loss='categorical_crossentropy',\n",
        "                  optimizer='adam',\n",
        "                  metrics=['accuracy'])\n",
        "    model.summary()\n",
        "\n",
        "    # training\n",
        "    history = model.fit(X_train, Y_train,\n",
        "                        batch_size=batch_size,\n",
        "                        nb_epoch=nb_epoch,\n",
        "                        verbose=1,\n",
        "                        validation_data=(X_test, Y_test))\n",
        "\n",
        "-->"
      ]
    }
  ]
}